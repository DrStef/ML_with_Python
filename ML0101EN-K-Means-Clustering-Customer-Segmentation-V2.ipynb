{
 "cells": [
  {
   "cell_type": "markdown",
   "metadata": {
    "button": false,
    "new_sheet": false,
    "run_control": {
     "read_only": false
    }
   },
   "source": [
    "<center>\n",
    "    <img src=\"https://cf-courses-data.s3.us.cloud-object-storage.appdomain.cloud/IBMDeveloperSkillsNetwork-ML0101EN-SkillsNetwork/labs/Module%204/images/IDSNlogo.png\" width=\"300\" alt=\"cognitiveclass.ai logo\"  />\n",
    "</center>\n",
    "\n",
    "# K-Means Clustering\n",
    "\n",
    "Estimated time needed: **25** minutes\n",
    "\n",
    "Course: Machine Learning with Python.¶\n",
    "\n",
    "Stephane Dedieu April May 2022 - Rev. Oct 2022. \n",
    "\n",
    "\n",
    "## Objectives\n",
    "\n",
    "After completing this lab you will be able to:\n",
    "\n",
    "*   Use scikit-learn's K-Means Clustering to cluster data\n"
   ]
  },
  {
   "cell_type": "markdown",
   "metadata": {
    "button": false,
    "new_sheet": false,
    "run_control": {
     "read_only": false
    }
   },
   "source": [
    "## Introduction\n",
    "\n",
    "There are many models for **clustering** out there. In this notebook, we will be presenting the model that is considered one of the simplest models amongst them. Despite its simplicity, the **K-means** is vastly used for clustering in many data science applications, it is especially useful if you need to quickly discover insights from **unlabeled data**. In this notebook, you will learn how to use k-Means for customer segmentation.\n",
    "\n",
    "Some real-world applications of k-means:\n",
    "\n",
    "*   Customer segmentation\n",
    "*   Understand what the visitors of a website are trying to accomplish\n",
    "*   Pattern recognition\n",
    "*   Machine learning\n",
    "*   Data compression\n",
    "\n",
    "In this notebook we practice k-means clustering with 2 examples:\n",
    "\n",
    "*   k-means on a random generated dataset\n",
    "*   Using k-means for customer segmentation\n"
   ]
  },
  {
   "cell_type": "markdown",
   "metadata": {},
   "source": [
    "<h1>Table of contents</h1>\n",
    "\n",
    "<div class=\"alert alert-block alert-info\" style=\"margin-top: 20px\">\n",
    "    <ul>\n",
    "        <li><a href=\"https://#random_generated_dataset\">k-Means on a randomly generated dataset</a></li>\n",
    "            <ol>\n",
    "                <li><a href=\"https://#setting_up_K_means\">Setting up K-Means</a></li>\n",
    "                <li><a href=\"https://#creating_visual_plot\">Creating the Visual Plot</a></li>\n",
    "            </ol>\n",
    "        <p></p>\n",
    "        <li><a href=\"https://#customer_segmentation_K_means\">Customer Segmentation with K-Means</a></li>\n",
    "            <ol>\n",
    "                <li><a href=\"https://#pre_processing\">Pre-processing</a></li>\n",
    "                <li><a href=\"https://#modeling\">Modeling</a></li>\n",
    "                <li><a href=\"https://#insights\">Insights</a></li>\n",
    "            </ol>\n",
    "    </ul>\n",
    "</div>\n",
    "<br>\n",
    "<hr>\n"
   ]
  },
  {
   "cell_type": "markdown",
   "metadata": {
    "button": false,
    "new_sheet": false,
    "run_control": {
     "read_only": false
    }
   },
   "source": [
    "### Import libraries\n",
    "\n",
    "Let's first import the required libraries.\n",
    "Also run <b> %matplotlib inline </b> since we will be plotting in this section.\n"
   ]
  },
  {
   "cell_type": "code",
   "execution_count": 1,
   "metadata": {
    "button": false,
    "new_sheet": false,
    "run_control": {
     "read_only": false
    }
   },
   "outputs": [],
   "source": [
    "import random \n",
    "import numpy as np \n",
    "import matplotlib.pyplot as plt \n",
    "from sklearn.cluster import KMeans \n",
    "#from sklearn.datasets.samples_generator import make_blobs \n",
    "from sklearn.datasets import make_blobs\n",
    "%matplotlib inline"
   ]
  },
  {
   "cell_type": "markdown",
   "metadata": {
    "button": false,
    "new_sheet": false,
    "run_control": {
     "read_only": false
    }
   },
   "source": [
    "<h1 id=\"random_generated_dataset\">k-Means on a randomly generated dataset</h1>\n",
    "\n",
    "Let's create our own dataset for this lab!\n"
   ]
  },
  {
   "cell_type": "markdown",
   "metadata": {
    "button": false,
    "new_sheet": false,
    "run_control": {
     "read_only": false
    }
   },
   "source": [
    "First we need to set a random seed. Use <b>numpy's random.seed()</b> function, where the seed will be set to <b>0</b>.\n"
   ]
  },
  {
   "cell_type": "code",
   "execution_count": 2,
   "metadata": {
    "button": false,
    "new_sheet": false,
    "run_control": {
     "read_only": false
    }
   },
   "outputs": [],
   "source": [
    "np.random.seed(0)"
   ]
  },
  {
   "cell_type": "markdown",
   "metadata": {
    "button": false,
    "new_sheet": false,
    "run_control": {
     "read_only": false
    }
   },
   "source": [
    "Next we will be making <i> random clusters </i> of points by using the <b> make_blobs </b> class. The <b> make_blobs </b> class can take in many inputs, but we will be using these specific ones. <br> <br> <b> <u> Input </u> </b>\n",
    "\n",
    "<ul>\n",
    "    <li> <b>n_samples</b>: The total number of points equally divided among clusters. </li>\n",
    "    <ul> <li> Value will be: 5000 </li> </ul>\n",
    "    <li> <b>centers</b>: The number of centers to generate, or the fixed center locations. </li>\n",
    "    <ul> <li> Value will be: [[4, 4], [-2, -1], [2, -3],[1,1]] </li> </ul>\n",
    "    <li> <b>cluster_std</b>: The standard deviation of the clusters. </li>\n",
    "    <ul> <li> Value will be: 0.9 </li> </ul>\n",
    "</ul>\n",
    "<br>\n",
    "<b> <u> Output </u> </b>\n",
    "<ul>\n",
    "    <li> <b>X</b>: Array of shape [n_samples, n_features]. (Feature Matrix)</li>\n",
    "    <ul> <li> The generated samples. </li> </ul> \n",
    "    <li> <b>y</b>: Array of shape [n_samples]. (Response Vector)</li>\n",
    "    <ul> <li> The integer labels for cluster membership of each sample. </li> </ul>\n",
    "</ul>\n"
   ]
  },
  {
   "cell_type": "code",
   "execution_count": 3,
   "metadata": {
    "button": false,
    "new_sheet": false,
    "run_control": {
     "read_only": false
    }
   },
   "outputs": [],
   "source": [
    "X, y = make_blobs(n_samples=5000, centers=[[4,4], [-2, -1], [2, -3], [1, 1]], cluster_std=0.9)"
   ]
  },
  {
   "cell_type": "markdown",
   "metadata": {
    "button": false,
    "new_sheet": false,
    "run_control": {
     "read_only": false
    }
   },
   "source": [
    "Display the scatter plot of the randomly generated data.\n"
   ]
  },
  {
   "cell_type": "code",
   "execution_count": 4,
   "metadata": {
    "button": false,
    "new_sheet": false,
    "run_control": {
     "read_only": false
    }
   },
   "outputs": [
    {
     "data": {
      "text/plain": [
       "<matplotlib.collections.PathCollection at 0x1a12223ee80>"
      ]
     },
     "execution_count": 4,
     "metadata": {},
     "output_type": "execute_result"
    },
    {
     "data": {
      "image/png": "[encoded data removed]",
      "text/plain": [
       "<Figure size 432x288 with 1 Axes>"
      ]
     },
     "metadata": {
      "needs_background": "light"
     },
     "output_type": "display_data"
    }
   ],
   "source": [
    "plt.scatter(X[:, 0], X[:, 1], marker='.')"
   ]
  },
  {
   "cell_type": "code",
   "execution_count": 5,
   "metadata": {},
   "outputs": [
    {
     "name": "stdout",
     "output_type": "stream",
     "text": [
      "(5000, 2)\n",
      "(5000,)\n"
     ]
    }
   ],
   "source": [
    "print(X.shape)\n",
    "print(y.shape)"
   ]
  },
  {
   "cell_type": "code",
   "execution_count": 6,
   "metadata": {},
   "outputs": [
    {
     "data": {
      "text/plain": [
       "array([[-1.82150565,  0.07098024],\n",
       "       [ 2.16732621, -2.93199608],\n",
       "       [ 0.8465158 , -3.26075305],\n",
       "       [-1.44019058, -1.36678252],\n",
       "       [ 4.90119792,  4.53749125]])"
      ]
     },
     "execution_count": 6,
     "metadata": {},
     "output_type": "execute_result"
    }
   ],
   "source": [
    "X[0:5][0:7]\n"
   ]
  },
  {
   "cell_type": "code",
   "execution_count": 7,
   "metadata": {},
   "outputs": [
    {
     "name": "stdout",
     "output_type": "stream",
     "text": [
      "Singular values of X: \n",
      " [228.77158443 142.61958423]\n"
     ]
    }
   ],
   "source": [
    "u, s, vh = np.linalg.svd(X, full_matrices=True)\n",
    "print(\"Singular values of X: \\n\", s[0:7])"
   ]
  },
  {
   "cell_type": "markdown",
   "metadata": {
    "button": false,
    "new_sheet": false,
    "run_control": {
     "read_only": false
    }
   },
   "source": [
    "<h2 id=\"setting_up_K_means\">Setting up K-Means</h2>\n",
    "Now that we have our random data, let's set up our K-Means Clustering.\n"
   ]
  },
  {
   "cell_type": "markdown",
   "metadata": {
    "button": false,
    "new_sheet": false,
    "run_control": {
     "read_only": false
    }
   },
   "source": [
    "The KMeans class has many parameters that can be used, but we will be using these three:\n",
    "\n",
    "<ul>\n",
    "    <li> <b>init</b>: Initialization method of the centroids. </li>\n",
    "    <ul>\n",
    "        <li> Value will be: \"k-means++\" </li>\n",
    "        <li> k-means++: Selects initial cluster centers for k-mean clustering in a smart way to speed up convergence.</li>\n",
    "    </ul>\n",
    "    <li> <b>n_clusters</b>: The number of clusters to form as well as the number of centroids to generate. </li>\n",
    "    <ul> <li> Value will be: 4 (since we have 4 centers)</li> </ul>\n",
    "    <li> <b>n_init</b>: Number of time the k-means algorithm will be run with different centroid seeds. The final results will be the best output of n_init consecutive runs in terms of inertia. </li>\n",
    "    <ul> <li> Value will be: 12 </li> </ul>\n",
    "</ul>\n",
    "\n",
    "Initialize KMeans with these parameters, where the output parameter is called <b>k_means</b>.\n"
   ]
  },
  {
   "cell_type": "code",
   "execution_count": 8,
   "metadata": {
    "button": false,
    "new_sheet": false,
    "run_control": {
     "read_only": false
    }
   },
   "outputs": [],
   "source": [
    "k_means = KMeans(init = \"k-means++\", n_clusters = 4, n_init = 12)"
   ]
  },
  {
   "cell_type": "markdown",
   "metadata": {
    "button": false,
    "new_sheet": false,
    "run_control": {
     "read_only": false
    }
   },
   "source": [
    "Now let's fit the KMeans model with the feature matrix we created above, <b> X </b>.\n"
   ]
  },
  {
   "cell_type": "code",
   "execution_count": 9,
   "metadata": {
    "button": false,
    "new_sheet": false,
    "run_control": {
     "read_only": false
    },
    "scrolled": false
   },
   "outputs": [
    {
     "data": {
      "text/html": [
       "<style>#sk-container-id-1 {color: black;background-color: white;}#sk-container-id-1 pre{padding: 0;}#sk-container-id-1 div.sk-toggleable {background-color: white;}#sk-container-id-1 label.sk-toggleable__label {cursor: pointer;display: block;width: 100%;margin-bottom: 0;padding: 0.3em;box-sizing: border-box;text-align: center;}#sk-container-id-1 label.sk-toggleable__label-arrow:before {content: \"▸\";float: left;margin-right: 0.25em;color: #696969;}#sk-container-id-1 label.sk-toggleable__label-arrow:hover:before {color: black;}#sk-container-id-1 div.sk-estimator:hover label.sk-toggleable__label-arrow:before {color: black;}#sk-container-id-1 div.sk-toggleable__content {max-height: 0;max-width: 0;overflow: hidden;text-align: left;background-color: #f0f8ff;}#sk-container-id-1 div.sk-toggleable__content pre {margin: 0.2em;color: black;border-radius: 0.25em;background-color: #f0f8ff;}#sk-container-id-1 input.sk-toggleable__control:checked~div.sk-toggleable__content {max-height: 200px;max-width: 100%;overflow: auto;}#sk-container-id-1 input.sk-toggleable__control:checked~label.sk-toggleable__label-arrow:before {content: \"▾\";}#sk-container-id-1 div.sk-estimator input.sk-toggleable__control:checked~label.sk-toggleable__label {background-color: #d4ebff;}#sk-container-id-1 div.sk-label input.sk-toggleable__control:checked~label.sk-toggleable__label {background-color: #d4ebff;}#sk-container-id-1 input.sk-hidden--visually {border: 0;clip: rect(1px 1px 1px 1px);clip: rect(1px, 1px, 1px, 1px);height: 1px;margin: -1px;overflow: hidden;padding: 0;position: absolute;width: 1px;}#sk-container-id-1 div.sk-estimator {font-family: monospace;background-color: #f0f8ff;border: 1px dotted black;border-radius: 0.25em;box-sizing: border-box;margin-bottom: 0.5em;}#sk-container-id-1 div.sk-estimator:hover {background-color: #d4ebff;}#sk-container-id-1 div.sk-parallel-item::after {content: \"\";width: 100%;border-bottom: 1px solid gray;flex-grow: 1;}#sk-container-id-1 div.sk-label:hover label.sk-toggleable__label {background-color: #d4ebff;}#sk-container-id-1 div.sk-serial::before {content: \"\";position: absolute;border-left: 1px solid gray;box-sizing: border-box;top: 0;bottom: 0;left: 50%;z-index: 0;}#sk-container-id-1 div.sk-serial {display: flex;flex-direction: column;align-items: center;background-color: white;padding-right: 0.2em;padding-left: 0.2em;position: relative;}#sk-container-id-1 div.sk-item {position: relative;z-index: 1;}#sk-container-id-1 div.sk-parallel {display: flex;align-items: stretch;justify-content: center;background-color: white;position: relative;}#sk-container-id-1 div.sk-item::before, #sk-container-id-1 div.sk-parallel-item::before {content: \"\";position: absolute;border-left: 1px solid gray;box-sizing: border-box;top: 0;bottom: 0;left: 50%;z-index: -1;}#sk-container-id-1 div.sk-parallel-item {display: flex;flex-direction: column;z-index: 1;position: relative;background-color: white;}#sk-container-id-1 div.sk-parallel-item:first-child::after {align-self: flex-end;width: 50%;}#sk-container-id-1 div.sk-parallel-item:last-child::after {align-self: flex-start;width: 50%;}#sk-container-id-1 div.sk-parallel-item:only-child::after {width: 0;}#sk-container-id-1 div.sk-dashed-wrapped {border: 1px dashed gray;margin: 0 0.4em 0.5em 0.4em;box-sizing: border-box;padding-bottom: 0.4em;background-color: white;}#sk-container-id-1 div.sk-label label {font-family: monospace;font-weight: bold;display: inline-block;line-height: 1.2em;}#sk-container-id-1 div.sk-label-container {text-align: center;}#sk-container-id-1 div.sk-container {/* jupyter's `normalize.less` sets `[hidden] { display: none; }` but bootstrap.min.css set `[hidden] { display: none !important; }` so we also need the `!important` here to be able to override the default hidden behavior on the sphinx rendered scikit-learn.org. See: https://github.com/scikit-learn/scikit-learn/issues/21755 */display: inline-block !important;position: relative;}#sk-container-id-1 div.sk-text-repr-fallback {display: none;}</style><div id=\"sk-container-id-1\" class=\"sk-top-container\"><div class=\"sk-text-repr-fallback\"><pre>KMeans(n_clusters=4, n_init=12)</pre><b>In a Jupyter environment, please rerun this cell to show the HTML representation or trust the notebook. <br />On GitHub, the HTML representation is unable to render, please try loading this page with nbviewer.org.</b></div><div class=\"sk-container\" hidden><div class=\"sk-item\"><div class=\"sk-estimator sk-toggleable\"><input class=\"sk-toggleable__control sk-hidden--visually\" id=\"sk-estimator-id-1\" type=\"checkbox\" checked><label for=\"sk-estimator-id-1\" class=\"sk-toggleable__label sk-toggleable__label-arrow\">KMeans</label><div class=\"sk-toggleable__content\"><pre>KMeans(n_clusters=4, n_init=12)</pre></div></div></div></div></div>"
      ],
      "text/plain": [
       "KMeans(n_clusters=4, n_init=12)"
      ]
     },
     "execution_count": 9,
     "metadata": {},
     "output_type": "execute_result"
    }
   ],
   "source": [
    "k_means.fit(X)"
   ]
  },
  {
   "cell_type": "markdown",
   "metadata": {
    "button": false,
    "new_sheet": false,
    "run_control": {
     "read_only": false
    }
   },
   "source": [
    "Now let's grab the labels for each point in the model using KMeans' <b> .labels\\_ </b> attribute and save it as <b> k_means_labels </b>.\n"
   ]
  },
  {
   "cell_type": "code",
   "execution_count": 10,
   "metadata": {
    "button": false,
    "new_sheet": false,
    "run_control": {
     "read_only": false
    }
   },
   "outputs": [
    {
     "data": {
      "text/plain": [
       "array([0, 3, 3, ..., 1, 0, 0])"
      ]
     },
     "execution_count": 10,
     "metadata": {},
     "output_type": "execute_result"
    }
   ],
   "source": [
    "k_means_labels = k_means.labels_\n",
    "k_means_labels"
   ]
  },
  {
   "cell_type": "markdown",
   "metadata": {
    "button": false,
    "new_sheet": false,
    "run_control": {
     "read_only": false
    }
   },
   "source": [
    "We will also get the coordinates of the cluster centers using KMeans' <b> .cluster_centers\\_ </b> and save it as <b> k_means_cluster_centers </b>.\n"
   ]
  },
  {
   "cell_type": "code",
   "execution_count": 11,
   "metadata": {
    "button": false,
    "new_sheet": false,
    "run_control": {
     "read_only": false
    }
   },
   "outputs": [
    {
     "data": {
      "text/plain": [
       "array([[-2.03743147, -0.99782524],\n",
       "       [ 3.97334234,  3.98758687],\n",
       "       [ 0.96900523,  0.98370298],\n",
       "       [ 1.99741008, -3.01666822]])"
      ]
     },
     "execution_count": 11,
     "metadata": {},
     "output_type": "execute_result"
    }
   ],
   "source": [
    "k_means_cluster_centers = k_means.cluster_centers_\n",
    "k_means_cluster_centers"
   ]
  },
  {
   "cell_type": "markdown",
   "metadata": {
    "button": false,
    "new_sheet": false,
    "run_control": {
     "read_only": false
    }
   },
   "source": [
    "<h2 id=\"creating_visual_plot\">Creating the Visual Plot</h2>\n",
    "\n",
    "So now that we have the random data generated and the KMeans model initialized, let's plot them and see what it looks like!\n"
   ]
  },
  {
   "cell_type": "markdown",
   "metadata": {
    "button": false,
    "new_sheet": false,
    "run_control": {
     "read_only": false
    }
   },
   "source": [
    "Please read through the code and comments to understand how to plot the model.\n"
   ]
  },
  {
   "cell_type": "code",
   "execution_count": 12,
   "metadata": {
    "button": false,
    "new_sheet": false,
    "run_control": {
     "read_only": false
    },
    "scrolled": false
   },
   "outputs": [
    {
     "data": {
      "image/png": "[encoded data removed]",
      "text/plain": [
       "<Figure size 432x288 with 1 Axes>"
      ]
     },
     "metadata": {},
     "output_type": "display_data"
    }
   ],
   "source": [
    "# Initialize the plot with the specified dimensions.\n",
    "fig = plt.figure(figsize=(6, 4))\n",
    "\n",
    "# Colors uses a color map, which will produce an array of colors based on\n",
    "# the number of labels there are. We use set(k_means_labels) to get the\n",
    "# unique labels.\n",
    "colors = plt.cm.Spectral(np.linspace(0, 1, len(set(k_means_labels))))\n",
    "\n",
    "# Create a plot\n",
    "ax = fig.add_subplot(1, 1, 1)\n",
    "\n",
    "# For loop that plots the data points and centroids.\n",
    "# k will range from 0-3, which will match the possible clusters that each\n",
    "# data point is in.\n",
    "for k, col in zip(range(len([[4,4], [-2, -1], [2, -3], [1, 1]])), colors):\n",
    "\n",
    "    # Create a list of all data points, where the data points that are \n",
    "    # in the cluster (ex. cluster 0) are labeled as true, else they are\n",
    "    # labeled as false.\n",
    "    my_members = (k_means_labels == k)\n",
    "    \n",
    "    # Define the centroid, or cluster center.\n",
    "    cluster_center = k_means_cluster_centers[k]\n",
    "    \n",
    "    # Plots the datapoints with color col.\n",
    "    ax.plot(X[my_members, 0], X[my_members, 1], 'w', markerfacecolor=col, marker='.')\n",
    "    \n",
    "    # Plots the centroids with specified color, but with a darker outline\n",
    "    ax.plot(cluster_center[0], cluster_center[1], 'o', markerfacecolor=col,  markeredgecolor='k', markersize=6)\n",
    "\n",
    "# Title of the plot\n",
    "ax.set_title('KMeans')\n",
    "\n",
    "# Remove x-axis ticks\n",
    "ax.set_xticks(())\n",
    "\n",
    "# Remove y-axis ticks\n",
    "ax.set_yticks(())\n",
    "\n",
    "# Show the plot\n",
    "plt.show()\n"
   ]
  },
  {
   "cell_type": "markdown",
   "metadata": {},
   "source": [
    "## Practice\n",
    "\n",
    "Try to cluster the above dataset into 3 clusters.\\\n",
    "Notice: do not generate the data again, use the same dataset as above.\n"
   ]
  },
  {
   "cell_type": "code",
   "execution_count": 13,
   "metadata": {},
   "outputs": [
    {
     "name": "stdout",
     "output_type": "stream",
     "text": [
      "K-means options KMeans(n_clusters=3, n_init=12)\n",
      "k_means_3_labels \n",
      " [1 2 2 ... 0 1 1]\n",
      "k_means_3_cluster_centers \n",
      " [[ 3.70503248  3.70030577]\n",
      " [-0.8042542  -0.16952334]\n",
      " [ 2.02030226 -2.94614399]]\n"
     ]
    }
   ],
   "source": [
    "# write your code here\n",
    "k_means_3 = KMeans(init = \"k-means++\", n_clusters = 3, n_init = 12)\n",
    "\n",
    "print(\"K-means options\",k_means_3.fit(X))\n",
    "\n",
    "k_means_3_labels = k_means_3.labels_\n",
    "print(\"k_means_3_labels \\n\", k_means_3_labels)\n",
    "\n",
    "k_means_3_cluster_centers = k_means_3.cluster_centers_\n",
    "print(\"k_means_3_cluster_centers \\n\", k_means_3_cluster_centers)\n",
    "\n",
    "\n"
   ]
  },
  {
   "cell_type": "code",
   "execution_count": 14,
   "metadata": {},
   "outputs": [
    {
     "data": {
      "image/png": "[encoded data removed]",
      "text/plain": [
       "<Figure size 432x288 with 1 Axes>"
      ]
     },
     "metadata": {},
     "output_type": "display_data"
    }
   ],
   "source": [
    "# Initialize the plot with the specified dimensions.\n",
    "fig = plt.figure(figsize=(6, 4))\n",
    "\n",
    "# Colors uses a color map, which will produce an array of colors based on\n",
    "# the number of labels there are. We use set(k_means_labels) to get the\n",
    "# unique labels.\n",
    "colors = plt.cm.Spectral(np.linspace(0, 1, len(set(k_means_3_labels))))\n",
    "\n",
    "# Create a plot\n",
    "ax = fig.add_subplot(1, 1, 1)\n",
    "\n",
    "# For loop that plots the data points and centroids.\n",
    "# k will range from 0-3, which will match the possible clusters that each\n",
    "# data point is in.\n",
    "for k, col in zip(range(len([[4,4], [-2, -1], [2, -3], [1, 1]])), colors):\n",
    "\n",
    "    # Create a list of all data points, where the data points that are \n",
    "    # in the cluster (ex. cluster 0) are labeled as true, else they are\n",
    "    # labeled as false.\n",
    "    my_members = (k_means_3_labels == k)\n",
    "    \n",
    "    # Define the centroid, or cluster center.\n",
    "    cluster_center = k_means_3_cluster_centers[k]\n",
    "    \n",
    "    # Plots the datapoints with color col.\n",
    "    ax.plot(X[my_members, 0], X[my_members, 1], 'w', markerfacecolor=col, marker='.')\n",
    "    \n",
    "    # Plots the centroids with specified color, but with a darker outline\n",
    "    ax.plot(cluster_center[0], cluster_center[1], 'o', markerfacecolor=col,  markeredgecolor='k', markersize=6)\n",
    "\n",
    "# Title of the plot\n",
    "ax.set_title('KMeans')\n",
    "\n",
    "# Remove x-axis ticks\n",
    "ax.set_xticks(())\n",
    "\n",
    "# Remove y-axis ticks\n",
    "ax.set_yticks(())\n",
    "\n",
    "# Show the plot\n",
    "plt.show()"
   ]
  },
  {
   "cell_type": "markdown",
   "metadata": {},
   "source": [
    "<details><summary>Click here for the solution</summary>\n",
    "\n",
    "```python\n",
    "k_means3 = KMeans(init = \"k-means++\", n_clusters = 3, n_init = 12)\n",
    "k_means3.fit(X)\n",
    "fig = plt.figure(figsize=(6, 4))\n",
    "colors = plt.cm.Spectral(np.linspace(0, 1, len(set(k_means3.labels_))))\n",
    "ax = fig.add_subplot(1, 1, 1)\n",
    "for k, col in zip(range(len(k_means3.cluster_centers_)), colors):\n",
    "    my_members = (k_means3.labels_ == k)\n",
    "    cluster_center = k_means3.cluster_centers_[k]\n",
    "    ax.plot(X[my_members, 0], X[my_members, 1], 'w', markerfacecolor=col, marker='.')\n",
    "    ax.plot(cluster_center[0], cluster_center[1], 'o', markerfacecolor=col,  markeredgecolor='k', markersize=6)\n",
    "plt.show()\n",
    "\n",
    "```\n",
    "\n",
    "</details>\n"
   ]
  },
  {
   "cell_type": "markdown",
   "metadata": {
    "button": false,
    "new_sheet": false,
    "run_control": {
     "read_only": false
    }
   },
   "source": [
    "<h1 id=\"customer_segmentation_K_means\">Customer Segmentation with K-Means</h1>\n",
    "\n",
    "Imagine that you have a customer dataset, and you need to apply customer segmentation on this historical data.\n",
    "Customer segmentation is the practice of partitioning a customer base into groups of individuals that have similar characteristics. It is a significant strategy as a business can target these specific groups of customers and effectively allocate marketing resources. For example, one group might contain customers who are high-profit and low-risk, that is, more likely to purchase products, or subscribe for a service. A business task is to retain those customers. Another group might include customers from non-profit organizations and so on.\n",
    "\n",
    "Let's download the dataset. To download the data, we will use **`!wget`** to download it from IBM Object Storage.\\\n",
    "**Did you know?** When it comes to Machine Learning, you will likely be working with large datasets. As a business, where can you host your data? IBM is offering a unique opportunity for businesses, with 10 Tb of IBM Cloud Object Storage: [Sign up now for free](http://cocl.us/ML0101EN-IBM-Offer-CC)\n"
   ]
  },
  {
   "cell_type": "code",
   "execution_count": 15,
   "metadata": {
    "button": false,
    "new_sheet": false,
    "run_control": {
     "read_only": false
    }
   },
   "outputs": [
    {
     "name": "stderr",
     "output_type": "stream",
     "text": [
      "--2022-10-11 21:46:45--  https://cf-courses-data.s3.us.cloud-object-storage.appdomain.cloud/IBMDeveloperSkillsNetwork-ML0101EN-SkillsNetwork/labs/Module%204/data/Cust_Segmentation.csv\n",
      "Resolving cf-courses-data.s3.us.cloud-object-storage.appdomain.cloud (cf-courses-data.s3.us.cloud-object-storage.appdomain.cloud)... 198.23.119.245\n",
      "Connecting to cf-courses-data.s3.us.cloud-object-storage.appdomain.cloud (cf-courses-data.s3.us.cloud-object-storage.appdomain.cloud)|198.23.119.245|:443... connected.\n",
      "HTTP request sent, awaiting response... 200 OK\n",
      "Length: 33426 (33K) [text/csv]\n",
      "Saving to: 'Cust_Segmentation.csv'\n",
      "\n",
      "     0K .......... .......... .......... ..                   100%  384K=0.09s\n",
      "\n",
      "2022-10-11 21:46:46 (384 KB/s) - 'Cust_Segmentation.csv' saved [33426/33426]\n",
      "\n"
     ]
    }
   ],
   "source": [
    "!wget -O Cust_Segmentation.csv https://cf-courses-data.s3.us.cloud-object-storage.appdomain.cloud/IBMDeveloperSkillsNetwork-ML0101EN-SkillsNetwork/labs/Module%204/data/Cust_Segmentation.csv"
   ]
  },
  {
   "cell_type": "markdown",
   "metadata": {
    "button": false,
    "new_sheet": false,
    "run_control": {
     "read_only": false
    }
   },
   "source": [
    "### Load Data From CSV File\n",
    "\n",
    "Before you can work with the data, you must use the URL to get the Cust_Segmentation.csv.\n"
   ]
  },
  {
   "cell_type": "code",
   "execution_count": 16,
   "metadata": {
    "button": false,
    "new_sheet": false,
    "run_control": {
     "read_only": false
    }
   },
   "outputs": [
    {
     "data": {
      "text/html": [
       "<div>\n",
       "<style scoped>\n",
       "    .dataframe tbody tr th:only-of-type {\n",
       "        vertical-align: middle;\n",
       "    }\n",
       "\n",
       "    .dataframe tbody tr th {\n",
       "        vertical-align: top;\n",
       "    }\n",
       "\n",
       "    .dataframe thead th {\n",
       "        text-align: right;\n",
       "    }\n",
       "</style>\n",
       "<table border=\"1\" class=\"dataframe\">\n",
       "  <thead>\n",
       "    <tr style=\"text-align: right;\">\n",
       "      <th></th>\n",
       "      <th>Customer Id</th>\n",
       "      <th>Age</th>\n",
       "      <th>Edu</th>\n",
       "      <th>Years Employed</th>\n",
       "      <th>Income</th>\n",
       "      <th>Card Debt</th>\n",
       "      <th>Other Debt</th>\n",
       "      <th>Defaulted</th>\n",
       "      <th>Address</th>\n",
       "      <th>DebtIncomeRatio</th>\n",
       "    </tr>\n",
       "  </thead>\n",
       "  <tbody>\n",
       "    <tr>\n",
       "      <th>0</th>\n",
       "      <td>1</td>\n",
       "      <td>41</td>\n",
       "      <td>2</td>\n",
       "      <td>6</td>\n",
       "      <td>19</td>\n",
       "      <td>0.124</td>\n",
       "      <td>1.073</td>\n",
       "      <td>0.0</td>\n",
       "      <td>NBA001</td>\n",
       "      <td>6.3</td>\n",
       "    </tr>\n",
       "    <tr>\n",
       "      <th>1</th>\n",
       "      <td>2</td>\n",
       "      <td>47</td>\n",
       "      <td>1</td>\n",
       "      <td>26</td>\n",
       "      <td>100</td>\n",
       "      <td>4.582</td>\n",
       "      <td>8.218</td>\n",
       "      <td>0.0</td>\n",
       "      <td>NBA021</td>\n",
       "      <td>12.8</td>\n",
       "    </tr>\n",
       "    <tr>\n",
       "      <th>2</th>\n",
       "      <td>3</td>\n",
       "      <td>33</td>\n",
       "      <td>2</td>\n",
       "      <td>10</td>\n",
       "      <td>57</td>\n",
       "      <td>6.111</td>\n",
       "      <td>5.802</td>\n",
       "      <td>1.0</td>\n",
       "      <td>NBA013</td>\n",
       "      <td>20.9</td>\n",
       "    </tr>\n",
       "    <tr>\n",
       "      <th>3</th>\n",
       "      <td>4</td>\n",
       "      <td>29</td>\n",
       "      <td>2</td>\n",
       "      <td>4</td>\n",
       "      <td>19</td>\n",
       "      <td>0.681</td>\n",
       "      <td>0.516</td>\n",
       "      <td>0.0</td>\n",
       "      <td>NBA009</td>\n",
       "      <td>6.3</td>\n",
       "    </tr>\n",
       "    <tr>\n",
       "      <th>4</th>\n",
       "      <td>5</td>\n",
       "      <td>47</td>\n",
       "      <td>1</td>\n",
       "      <td>31</td>\n",
       "      <td>253</td>\n",
       "      <td>9.308</td>\n",
       "      <td>8.908</td>\n",
       "      <td>0.0</td>\n",
       "      <td>NBA008</td>\n",
       "      <td>7.2</td>\n",
       "    </tr>\n",
       "  </tbody>\n",
       "</table>\n",
       "</div>"
      ],
      "text/plain": [
       "   Customer Id  Age  Edu  Years Employed  Income  Card Debt  Other Debt  \\\n",
       "0            1   41    2               6      19      0.124       1.073   \n",
       "1            2   47    1              26     100      4.582       8.218   \n",
       "2            3   33    2              10      57      6.111       5.802   \n",
       "3            4   29    2               4      19      0.681       0.516   \n",
       "4            5   47    1              31     253      9.308       8.908   \n",
       "\n",
       "   Defaulted Address  DebtIncomeRatio  \n",
       "0        0.0  NBA001              6.3  \n",
       "1        0.0  NBA021             12.8  \n",
       "2        1.0  NBA013             20.9  \n",
       "3        0.0  NBA009              6.3  \n",
       "4        0.0  NBA008              7.2  "
      ]
     },
     "execution_count": 16,
     "metadata": {},
     "output_type": "execute_result"
    }
   ],
   "source": [
    "import pandas as pd\n",
    "cust_df = pd.read_csv(\"Cust_Segmentation.csv\")\n",
    "cust_df.head()"
   ]
  },
  {
   "cell_type": "markdown",
   "metadata": {},
   "source": [
    "<h2 id=\"pre_processing\">Pre-processing</h2\n"
   ]
  },
  {
   "cell_type": "markdown",
   "metadata": {
    "button": false,
    "new_sheet": false,
    "run_control": {
     "read_only": false
    }
   },
   "source": [
    "As you can see, **Address** in this dataset is a categorical variable. The k-means algorithm isn't directly applicable to categorical variables because the Euclidean distance function isn't really meaningful for discrete variables. So, let's drop this feature and run clustering.\n"
   ]
  },
  {
   "cell_type": "code",
   "execution_count": 17,
   "metadata": {
    "button": false,
    "new_sheet": false,
    "run_control": {
     "read_only": false
    }
   },
   "outputs": [
    {
     "data": {
      "text/html": [
       "<div>\n",
       "<style scoped>\n",
       "    .dataframe tbody tr th:only-of-type {\n",
       "        vertical-align: middle;\n",
       "    }\n",
       "\n",
       "    .dataframe tbody tr th {\n",
       "        vertical-align: top;\n",
       "    }\n",
       "\n",
       "    .dataframe thead th {\n",
       "        text-align: right;\n",
       "    }\n",
       "</style>\n",
       "<table border=\"1\" class=\"dataframe\">\n",
       "  <thead>\n",
       "    <tr style=\"text-align: right;\">\n",
       "      <th></th>\n",
       "      <th>Customer Id</th>\n",
       "      <th>Age</th>\n",
       "      <th>Edu</th>\n",
       "      <th>Years Employed</th>\n",
       "      <th>Income</th>\n",
       "      <th>Card Debt</th>\n",
       "      <th>Other Debt</th>\n",
       "      <th>Defaulted</th>\n",
       "      <th>DebtIncomeRatio</th>\n",
       "    </tr>\n",
       "  </thead>\n",
       "  <tbody>\n",
       "    <tr>\n",
       "      <th>0</th>\n",
       "      <td>1</td>\n",
       "      <td>41</td>\n",
       "      <td>2</td>\n",
       "      <td>6</td>\n",
       "      <td>19</td>\n",
       "      <td>0.124</td>\n",
       "      <td>1.073</td>\n",
       "      <td>0.0</td>\n",
       "      <td>6.3</td>\n",
       "    </tr>\n",
       "    <tr>\n",
       "      <th>1</th>\n",
       "      <td>2</td>\n",
       "      <td>47</td>\n",
       "      <td>1</td>\n",
       "      <td>26</td>\n",
       "      <td>100</td>\n",
       "      <td>4.582</td>\n",
       "      <td>8.218</td>\n",
       "      <td>0.0</td>\n",
       "      <td>12.8</td>\n",
       "    </tr>\n",
       "    <tr>\n",
       "      <th>2</th>\n",
       "      <td>3</td>\n",
       "      <td>33</td>\n",
       "      <td>2</td>\n",
       "      <td>10</td>\n",
       "      <td>57</td>\n",
       "      <td>6.111</td>\n",
       "      <td>5.802</td>\n",
       "      <td>1.0</td>\n",
       "      <td>20.9</td>\n",
       "    </tr>\n",
       "    <tr>\n",
       "      <th>3</th>\n",
       "      <td>4</td>\n",
       "      <td>29</td>\n",
       "      <td>2</td>\n",
       "      <td>4</td>\n",
       "      <td>19</td>\n",
       "      <td>0.681</td>\n",
       "      <td>0.516</td>\n",
       "      <td>0.0</td>\n",
       "      <td>6.3</td>\n",
       "    </tr>\n",
       "    <tr>\n",
       "      <th>4</th>\n",
       "      <td>5</td>\n",
       "      <td>47</td>\n",
       "      <td>1</td>\n",
       "      <td>31</td>\n",
       "      <td>253</td>\n",
       "      <td>9.308</td>\n",
       "      <td>8.908</td>\n",
       "      <td>0.0</td>\n",
       "      <td>7.2</td>\n",
       "    </tr>\n",
       "  </tbody>\n",
       "</table>\n",
       "</div>"
      ],
      "text/plain": [
       "   Customer Id  Age  Edu  Years Employed  Income  Card Debt  Other Debt  \\\n",
       "0            1   41    2               6      19      0.124       1.073   \n",
       "1            2   47    1              26     100      4.582       8.218   \n",
       "2            3   33    2              10      57      6.111       5.802   \n",
       "3            4   29    2               4      19      0.681       0.516   \n",
       "4            5   47    1              31     253      9.308       8.908   \n",
       "\n",
       "   Defaulted  DebtIncomeRatio  \n",
       "0        0.0              6.3  \n",
       "1        0.0             12.8  \n",
       "2        1.0             20.9  \n",
       "3        0.0              6.3  \n",
       "4        0.0              7.2  "
      ]
     },
     "execution_count": 17,
     "metadata": {},
     "output_type": "execute_result"
    }
   ],
   "source": [
    "df = cust_df.drop('Address', axis=1)\n",
    "df.head()"
   ]
  },
  {
   "cell_type": "markdown",
   "metadata": {
    "button": false,
    "new_sheet": false,
    "run_control": {
     "read_only": false
    }
   },
   "source": [
    "#### Normalizing over the standard deviation\n",
    "\n",
    "Now let's normalize the dataset. But why do we need normalization in the first place? Normalization is a statistical method that helps mathematical-based algorithms to interpret features with different magnitudes and distributions equally. We use **StandardScaler()** to normalize our dataset.\n"
   ]
  },
  {
   "cell_type": "code",
   "execution_count": 18,
   "metadata": {
    "button": false,
    "new_sheet": false,
    "run_control": {
     "read_only": false
    }
   },
   "outputs": [
    {
     "data": {
      "text/plain": [
       "array([[ 0.74291541,  0.31212243, -0.37878978, ..., -0.59048916,\n",
       "        -0.52379654, -0.57652509],\n",
       "       [ 1.48949049, -0.76634938,  2.5737211 , ...,  1.51296181,\n",
       "        -0.52379654,  0.39138677],\n",
       "       [-0.25251804,  0.31212243,  0.2117124 , ...,  0.80170393,\n",
       "         1.90913822,  1.59755385],\n",
       "       ...,\n",
       "       [-1.24795149,  2.46906604, -1.26454304, ...,  0.03863257,\n",
       "         1.90913822,  3.45892281],\n",
       "       [-0.37694723, -0.76634938,  0.50696349, ..., -0.70147601,\n",
       "        -0.52379654, -1.08281745],\n",
       "       [ 2.1116364 , -0.76634938,  1.09746566, ...,  0.16463355,\n",
       "        -0.52379654, -0.2340332 ]])"
      ]
     },
     "execution_count": 18,
     "metadata": {},
     "output_type": "execute_result"
    }
   ],
   "source": [
    "from sklearn.preprocessing import StandardScaler\n",
    "X = df.values[:,1:]\n",
    "X = np.nan_to_num(X)\n",
    "Clus_dataSet = StandardScaler().fit_transform(X)\n",
    "Clus_dataSet"
   ]
  },
  {
   "cell_type": "markdown",
   "metadata": {},
   "source": [
    "<h2 id=\"modeling\">Modeling</h2>\n"
   ]
  },
  {
   "cell_type": "markdown",
   "metadata": {
    "button": false,
    "new_sheet": false,
    "run_control": {
     "read_only": false
    }
   },
   "source": [
    "In our example (if we didn't have access to the k-means algorithm), it would be the same as guessing that each customer group would have certain age, income, education, etc, with multiple tests and experiments. However, using the K-means clustering we can do all this process much easier.\n",
    "\n",
    "Let's apply k-means on our dataset, and take a look at cluster labels.\n"
   ]
  },
  {
   "cell_type": "code",
   "execution_count": 34,
   "metadata": {
    "button": false,
    "new_sheet": false,
    "run_control": {
     "read_only": false
    }
   },
   "outputs": [
    {
     "name": "stderr",
     "output_type": "stream",
     "text": [
      "C:\\Users\\stefo\\anaconda3\\lib\\site-packages\\sklearn\\cluster\\_kmeans.py:1334: UserWarning: KMeans is known to have a memory leak on Windows with MKL, when there are less chunks than available threads. You can avoid it by setting the environment variable OMP_NUM_THREADS=4.\n",
      "  warnings.warn(\n"
     ]
    },
    {
     "name": "stdout",
     "output_type": "stream",
     "text": [
      "[0 1 0 0 2 1 0 1 0 1 1 0 0 0 0 0 0 0 1 0 0 0 0 1 1 1 0 0 1 0 1 0 0 0 0 0 0\n",
      " 0 0 1 0 1 0 2 0 1 0 0 0 1]\n"
     ]
    }
   ],
   "source": [
    "clusterNum = 3\n",
    "k_means = KMeans(init = \"k-means++\", n_clusters = clusterNum, n_init = 12)\n",
    "k_means.fit(X)\n",
    "labels = k_means.labels_\n",
    "print(labels[0:50])"
   ]
  },
  {
   "cell_type": "markdown",
   "metadata": {
    "button": false,
    "new_sheet": false,
    "run_control": {
     "read_only": false
    }
   },
   "source": [
    "<h2 id=\"insights\">Insights</h2>\n",
    "\n",
    "We assign the labels to each row in the dataframe.\n"
   ]
  },
  {
   "cell_type": "code",
   "execution_count": 20,
   "metadata": {
    "button": false,
    "new_sheet": false,
    "run_control": {
     "read_only": false
    }
   },
   "outputs": [
    {
     "data": {
      "text/html": [
       "<div>\n",
       "<style scoped>\n",
       "    .dataframe tbody tr th:only-of-type {\n",
       "        vertical-align: middle;\n",
       "    }\n",
       "\n",
       "    .dataframe tbody tr th {\n",
       "        vertical-align: top;\n",
       "    }\n",
       "\n",
       "    .dataframe thead th {\n",
       "        text-align: right;\n",
       "    }\n",
       "</style>\n",
       "<table border=\"1\" class=\"dataframe\">\n",
       "  <thead>\n",
       "    <tr style=\"text-align: right;\">\n",
       "      <th></th>\n",
       "      <th>Customer Id</th>\n",
       "      <th>Age</th>\n",
       "      <th>Edu</th>\n",
       "      <th>Years Employed</th>\n",
       "      <th>Income</th>\n",
       "      <th>Card Debt</th>\n",
       "      <th>Other Debt</th>\n",
       "      <th>Defaulted</th>\n",
       "      <th>DebtIncomeRatio</th>\n",
       "      <th>Clus_km</th>\n",
       "    </tr>\n",
       "  </thead>\n",
       "  <tbody>\n",
       "    <tr>\n",
       "      <th>0</th>\n",
       "      <td>1</td>\n",
       "      <td>41</td>\n",
       "      <td>2</td>\n",
       "      <td>6</td>\n",
       "      <td>19</td>\n",
       "      <td>0.124</td>\n",
       "      <td>1.073</td>\n",
       "      <td>0.0</td>\n",
       "      <td>6.3</td>\n",
       "      <td>0</td>\n",
       "    </tr>\n",
       "    <tr>\n",
       "      <th>1</th>\n",
       "      <td>2</td>\n",
       "      <td>47</td>\n",
       "      <td>1</td>\n",
       "      <td>26</td>\n",
       "      <td>100</td>\n",
       "      <td>4.582</td>\n",
       "      <td>8.218</td>\n",
       "      <td>0.0</td>\n",
       "      <td>12.8</td>\n",
       "      <td>2</td>\n",
       "    </tr>\n",
       "    <tr>\n",
       "      <th>2</th>\n",
       "      <td>3</td>\n",
       "      <td>33</td>\n",
       "      <td>2</td>\n",
       "      <td>10</td>\n",
       "      <td>57</td>\n",
       "      <td>6.111</td>\n",
       "      <td>5.802</td>\n",
       "      <td>1.0</td>\n",
       "      <td>20.9</td>\n",
       "      <td>0</td>\n",
       "    </tr>\n",
       "    <tr>\n",
       "      <th>3</th>\n",
       "      <td>4</td>\n",
       "      <td>29</td>\n",
       "      <td>2</td>\n",
       "      <td>4</td>\n",
       "      <td>19</td>\n",
       "      <td>0.681</td>\n",
       "      <td>0.516</td>\n",
       "      <td>0.0</td>\n",
       "      <td>6.3</td>\n",
       "      <td>0</td>\n",
       "    </tr>\n",
       "    <tr>\n",
       "      <th>4</th>\n",
       "      <td>5</td>\n",
       "      <td>47</td>\n",
       "      <td>1</td>\n",
       "      <td>31</td>\n",
       "      <td>253</td>\n",
       "      <td>9.308</td>\n",
       "      <td>8.908</td>\n",
       "      <td>0.0</td>\n",
       "      <td>7.2</td>\n",
       "      <td>1</td>\n",
       "    </tr>\n",
       "  </tbody>\n",
       "</table>\n",
       "</div>"
      ],
      "text/plain": [
       "   Customer Id  Age  Edu  Years Employed  Income  Card Debt  Other Debt  \\\n",
       "0            1   41    2               6      19      0.124       1.073   \n",
       "1            2   47    1              26     100      4.582       8.218   \n",
       "2            3   33    2              10      57      6.111       5.802   \n",
       "3            4   29    2               4      19      0.681       0.516   \n",
       "4            5   47    1              31     253      9.308       8.908   \n",
       "\n",
       "   Defaulted  DebtIncomeRatio  Clus_km  \n",
       "0        0.0              6.3        0  \n",
       "1        0.0             12.8        2  \n",
       "2        1.0             20.9        0  \n",
       "3        0.0              6.3        0  \n",
       "4        0.0              7.2        1  "
      ]
     },
     "execution_count": 20,
     "metadata": {},
     "output_type": "execute_result"
    }
   ],
   "source": [
    "df[\"Clus_km\"] = labels\n",
    "df.head(5)"
   ]
  },
  {
   "cell_type": "markdown",
   "metadata": {
    "button": false,
    "new_sheet": false,
    "run_control": {
     "read_only": false
    }
   },
   "source": [
    "We can easily check the centroid values by averaging the features in each cluster.\n"
   ]
  },
  {
   "cell_type": "code",
   "execution_count": 21,
   "metadata": {
    "button": false,
    "new_sheet": false,
    "run_control": {
     "read_only": false
    }
   },
   "outputs": [
    {
     "data": {
      "text/html": [
       "<div>\n",
       "<style scoped>\n",
       "    .dataframe tbody tr th:only-of-type {\n",
       "        vertical-align: middle;\n",
       "    }\n",
       "\n",
       "    .dataframe tbody tr th {\n",
       "        vertical-align: top;\n",
       "    }\n",
       "\n",
       "    .dataframe thead th {\n",
       "        text-align: right;\n",
       "    }\n",
       "</style>\n",
       "<table border=\"1\" class=\"dataframe\">\n",
       "  <thead>\n",
       "    <tr style=\"text-align: right;\">\n",
       "      <th></th>\n",
       "      <th>Customer Id</th>\n",
       "      <th>Age</th>\n",
       "      <th>Edu</th>\n",
       "      <th>Years Employed</th>\n",
       "      <th>Income</th>\n",
       "      <th>Card Debt</th>\n",
       "      <th>Other Debt</th>\n",
       "      <th>Defaulted</th>\n",
       "      <th>DebtIncomeRatio</th>\n",
       "    </tr>\n",
       "    <tr>\n",
       "      <th>Clus_km</th>\n",
       "      <th></th>\n",
       "      <th></th>\n",
       "      <th></th>\n",
       "      <th></th>\n",
       "      <th></th>\n",
       "      <th></th>\n",
       "      <th></th>\n",
       "      <th></th>\n",
       "      <th></th>\n",
       "    </tr>\n",
       "  </thead>\n",
       "  <tbody>\n",
       "    <tr>\n",
       "      <th>0</th>\n",
       "      <td>432.006154</td>\n",
       "      <td>32.967692</td>\n",
       "      <td>1.613846</td>\n",
       "      <td>6.389231</td>\n",
       "      <td>31.204615</td>\n",
       "      <td>1.032711</td>\n",
       "      <td>2.108345</td>\n",
       "      <td>0.284658</td>\n",
       "      <td>10.095385</td>\n",
       "    </tr>\n",
       "    <tr>\n",
       "      <th>1</th>\n",
       "      <td>410.166667</td>\n",
       "      <td>45.388889</td>\n",
       "      <td>2.666667</td>\n",
       "      <td>19.555556</td>\n",
       "      <td>227.166667</td>\n",
       "      <td>5.678444</td>\n",
       "      <td>10.907167</td>\n",
       "      <td>0.285714</td>\n",
       "      <td>7.322222</td>\n",
       "    </tr>\n",
       "    <tr>\n",
       "      <th>2</th>\n",
       "      <td>403.780220</td>\n",
       "      <td>41.368132</td>\n",
       "      <td>1.961538</td>\n",
       "      <td>15.252747</td>\n",
       "      <td>84.076923</td>\n",
       "      <td>3.114412</td>\n",
       "      <td>5.770352</td>\n",
       "      <td>0.172414</td>\n",
       "      <td>10.725824</td>\n",
       "    </tr>\n",
       "  </tbody>\n",
       "</table>\n",
       "</div>"
      ],
      "text/plain": [
       "         Customer Id        Age       Edu  Years Employed      Income  \\\n",
       "Clus_km                                                                 \n",
       "0         432.006154  32.967692  1.613846        6.389231   31.204615   \n",
       "1         410.166667  45.388889  2.666667       19.555556  227.166667   \n",
       "2         403.780220  41.368132  1.961538       15.252747   84.076923   \n",
       "\n",
       "         Card Debt  Other Debt  Defaulted  DebtIncomeRatio  \n",
       "Clus_km                                                     \n",
       "0         1.032711    2.108345   0.284658        10.095385  \n",
       "1         5.678444   10.907167   0.285714         7.322222  \n",
       "2         3.114412    5.770352   0.172414        10.725824  "
      ]
     },
     "execution_count": 21,
     "metadata": {},
     "output_type": "execute_result"
    }
   ],
   "source": [
    "df.groupby('Clus_km').mean()"
   ]
  },
  {
   "cell_type": "markdown",
   "metadata": {},
   "source": [
    "Now, let's look at the distribution of customers based on their age and income:\n"
   ]
  },
  {
   "cell_type": "code",
   "execution_count": 28,
   "metadata": {
    "button": false,
    "new_sheet": false,
    "run_control": {
     "read_only": false
    }
   },
   "outputs": [],
   "source": [
    "area = np.pi * ( X[:, 1])**2  \n",
    "plt.scatter(X[:, 0], X[:, 3], s=area, c=labels.astype(float), alpha=0.5)\n",
    "plt.xlabel('Age', fontsize=18)\n",
    "plt.ylabel('Income', fontsize=16)\n",
    "\n",
    "plt.show()\n"
   ]
  },
  {
   "cell_type": "code",
   "execution_count": 29,
   "metadata": {},
   "outputs": [
    {
     "data": {
      "application/javascript": [
       "/* Put everything inside the global mpl namespace */\n",
       "/* global mpl */\n",
       "window.mpl = {};\n",
       "\n",
       "mpl.get_websocket_type = function () {\n",
       "    if (typeof WebSocket !== 'undefined') {\n",
       "        return WebSocket;\n",
       "    } else if (typeof MozWebSocket !== 'undefined') {\n",
       "        return MozWebSocket;\n",
       "    } else {\n",
       "        alert(\n",
       "            'Your browser does not have WebSocket support. ' +\n",
       "                'Please try Chrome, Safari or Firefox ≥ 6. ' +\n",
       "                'Firefox 4 and 5 are also supported but you ' +\n",
       "                'have to enable WebSockets in about:config.'\n",
       "        );\n",
       "    }\n",
       "};\n",
       "\n",
       "mpl.figure = function (figure_id, websocket, ondownload, parent_element) {\n",
       "    this.id = figure_id;\n",
       "\n",
       "    this.ws = websocket;\n",
       "\n",
       "    this.supports_binary = this.ws.binaryType !== undefined;\n",
       "\n",
       "    if (!this.supports_binary) {\n",
       "        var warnings = document.getElementById('mpl-warnings');\n",
       "        if (warnings) {\n",
       "            warnings.style.display = 'block';\n",
       "            warnings.textContent =\n",
       "                'This browser does not support binary websocket messages. ' +\n",
       "                'Performance may be slow.';\n",
       "        }\n",
       "    }\n",
       "\n",
       "    this.imageObj = new Image();\n",
       "\n",
       "    this.context = undefined;\n",
       "    this.message = undefined;\n",
       "    this.canvas = undefined;\n",
       "    this.rubberband_canvas = undefined;\n",
       "    this.rubberband_context = undefined;\n",
       "    this.format_dropdown = undefined;\n",
       "\n",
       "    this.image_mode = 'full';\n",
       "\n",
       "    this.root = document.createElement('div');\n",
       "    this.root.setAttribute('style', 'display: inline-block');\n",
       "    this._root_extra_style(this.root);\n",
       "\n",
       "    parent_element.appendChild(this.root);\n",
       "\n",
       "    this._init_header(this);\n",
       "    this._init_canvas(this);\n",
       "    this._init_toolbar(this);\n",
       "\n",
       "    var fig = this;\n",
       "\n",
       "    this.waiting = false;\n",
       "\n",
       "    this.ws.onopen = function () {\n",
       "        fig.send_message('supports_binary', { value: fig.supports_binary });\n",
       "        fig.send_message('send_image_mode', {});\n",
       "        if (fig.ratio !== 1) {\n",
       "            fig.send_message('set_dpi_ratio', { dpi_ratio: fig.ratio });\n",
       "        }\n",
       "        fig.send_message('refresh', {});\n",
       "    };\n",
       "\n",
       "    this.imageObj.onload = function () {\n",
       "        if (fig.image_mode === 'full') {\n",
       "            // Full images could contain transparency (where diff images\n",
       "            // almost always do), so we need to clear the canvas so that\n",
       "            // there is no ghosting.\n",
       "            fig.context.clearRect(0, 0, fig.canvas.width, fig.canvas.height);\n",
       "        }\n",
       "        fig.context.drawImage(fig.imageObj, 0, 0);\n",
       "    };\n",
       "\n",
       "    this.imageObj.onunload = function () {\n",
       "        fig.ws.close();\n",
       "    };\n",
       "\n",
       "    this.ws.onmessage = this._make_on_message_function(this);\n",
       "\n",
       "    this.ondownload = ondownload;\n",
       "};\n",
       "\n",
       "mpl.figure.prototype._init_header = function () {\n",
       "    var titlebar = document.createElement('div');\n",
       "    titlebar.classList =\n",
       "        'ui-dialog-titlebar ui-widget-header ui-corner-all ui-helper-clearfix';\n",
       "    var titletext = document.createElement('div');\n",
       "    titletext.classList = 'ui-dialog-title';\n",
       "    titletext.setAttribute(\n",
       "        'style',\n",
       "        'width: 100%; text-align: center; padding: 3px;'\n",
       "    );\n",
       "    titlebar.appendChild(titletext);\n",
       "    this.root.appendChild(titlebar);\n",
       "    this.header = titletext;\n",
       "};\n",
       "\n",
       "mpl.figure.prototype._canvas_extra_style = function (_canvas_div) {};\n",
       "\n",
       "mpl.figure.prototype._root_extra_style = function (_canvas_div) {};\n",
       "\n",
       "mpl.figure.prototype._init_canvas = function () {\n",
       "    var fig = this;\n",
       "\n",
       "    var canvas_div = (this.canvas_div = document.createElement('div'));\n",
       "    canvas_div.setAttribute(\n",
       "        'style',\n",
       "        'border: 1px solid #ddd;' +\n",
       "            'box-sizing: content-box;' +\n",
       "            'clear: both;' +\n",
       "            'min-height: 1px;' +\n",
       "            'min-width: 1px;' +\n",
       "            'outline: 0;' +\n",
       "            'overflow: hidden;' +\n",
       "            'position: relative;' +\n",
       "            'resize: both;'\n",
       "    );\n",
       "\n",
       "    function on_keyboard_event_closure(name) {\n",
       "        return function (event) {\n",
       "            return fig.key_event(event, name);\n",
       "        };\n",
       "    }\n",
       "\n",
       "    canvas_div.addEventListener(\n",
       "        'keydown',\n",
       "        on_keyboard_event_closure('key_press')\n",
       "    );\n",
       "    canvas_div.addEventListener(\n",
       "        'keyup',\n",
       "        on_keyboard_event_closure('key_release')\n",
       "    );\n",
       "\n",
       "    this._canvas_extra_style(canvas_div);\n",
       "    this.root.appendChild(canvas_div);\n",
       "\n",
       "    var canvas = (this.canvas = document.createElement('canvas'));\n",
       "    canvas.classList.add('mpl-canvas');\n",
       "    canvas.setAttribute('style', 'box-sizing: content-box;');\n",
       "\n",
       "    this.context = canvas.getContext('2d');\n",
       "\n",
       "    var backingStore =\n",
       "        this.context.backingStorePixelRatio ||\n",
       "        this.context.webkitBackingStorePixelRatio ||\n",
       "        this.context.mozBackingStorePixelRatio ||\n",
       "        this.context.msBackingStorePixelRatio ||\n",
       "        this.context.oBackingStorePixelRatio ||\n",
       "        this.context.backingStorePixelRatio ||\n",
       "        1;\n",
       "\n",
       "    this.ratio = (window.devicePixelRatio || 1) / backingStore;\n",
       "\n",
       "    var rubberband_canvas = (this.rubberband_canvas = document.createElement(\n",
       "        'canvas'\n",
       "    ));\n",
       "    rubberband_canvas.setAttribute(\n",
       "        'style',\n",
       "        'box-sizing: content-box; position: absolute; left: 0; top: 0; z-index: 1;'\n",
       "    );\n",
       "\n",
       "    // Apply a ponyfill if ResizeObserver is not implemented by browser.\n",
       "    if (this.ResizeObserver === undefined) {\n",
       "        if (window.ResizeObserver !== undefined) {\n",
       "            this.ResizeObserver = window.ResizeObserver;\n",
       "        } else {\n",
       "            var obs = _JSXTOOLS_RESIZE_OBSERVER({});\n",
       "            this.ResizeObserver = obs.ResizeObserver;\n",
       "        }\n",
       "    }\n",
       "\n",
       "    this.resizeObserverInstance = new this.ResizeObserver(function (entries) {\n",
       "        var nentries = entries.length;\n",
       "        for (var i = 0; i < nentries; i++) {\n",
       "            var entry = entries[i];\n",
       "            var width, height;\n",
       "            if (entry.contentBoxSize) {\n",
       "                if (entry.contentBoxSize instanceof Array) {\n",
       "                    // Chrome 84 implements new version of spec.\n",
       "                    width = entry.contentBoxSize[0].inlineSize;\n",
       "                    height = entry.contentBoxSize[0].blockSize;\n",
       "                } else {\n",
       "                    // Firefox implements old version of spec.\n",
       "                    width = entry.contentBoxSize.inlineSize;\n",
       "                    height = entry.contentBoxSize.blockSize;\n",
       "                }\n",
       "            } else {\n",
       "                // Chrome <84 implements even older version of spec.\n",
       "                width = entry.contentRect.width;\n",
       "                height = entry.contentRect.height;\n",
       "            }\n",
       "\n",
       "            // Keep the size of the canvas and rubber band canvas in sync with\n",
       "            // the canvas container.\n",
       "            if (entry.devicePixelContentBoxSize) {\n",
       "                // Chrome 84 implements new version of spec.\n",
       "                canvas.setAttribute(\n",
       "                    'width',\n",
       "                    entry.devicePixelContentBoxSize[0].inlineSize\n",
       "                );\n",
       "                canvas.setAttribute(\n",
       "                    'height',\n",
       "                    entry.devicePixelContentBoxSize[0].blockSize\n",
       "                );\n",
       "            } else {\n",
       "                canvas.setAttribute('width', width * fig.ratio);\n",
       "                canvas.setAttribute('height', height * fig.ratio);\n",
       "            }\n",
       "            canvas.setAttribute(\n",
       "                'style',\n",
       "                'width: ' + width + 'px; height: ' + height + 'px;'\n",
       "            );\n",
       "\n",
       "            rubberband_canvas.setAttribute('width', width);\n",
       "            rubberband_canvas.setAttribute('height', height);\n",
       "\n",
       "            // And update the size in Python. We ignore the initial 0/0 size\n",
       "            // that occurs as the element is placed into the DOM, which should\n",
       "            // otherwise not happen due to the minimum size styling.\n",
       "            if (fig.ws.readyState == 1 && width != 0 && height != 0) {\n",
       "                fig.request_resize(width, height);\n",
       "            }\n",
       "        }\n",
       "    });\n",
       "    this.resizeObserverInstance.observe(canvas_div);\n",
       "\n",
       "    function on_mouse_event_closure(name) {\n",
       "        return function (event) {\n",
       "            return fig.mouse_event(event, name);\n",
       "        };\n",
       "    }\n",
       "\n",
       "    rubberband_canvas.addEventListener(\n",
       "        'mousedown',\n",
       "        on_mouse_event_closure('button_press')\n",
       "    );\n",
       "    rubberband_canvas.addEventListener(\n",
       "        'mouseup',\n",
       "        on_mouse_event_closure('button_release')\n",
       "    );\n",
       "    rubberband_canvas.addEventListener(\n",
       "        'dblclick',\n",
       "        on_mouse_event_closure('dblclick')\n",
       "    );\n",
       "    // Throttle sequential mouse events to 1 every 20ms.\n",
       "    rubberband_canvas.addEventListener(\n",
       "        'mousemove',\n",
       "        on_mouse_event_closure('motion_notify')\n",
       "    );\n",
       "\n",
       "    rubberband_canvas.addEventListener(\n",
       "        'mouseenter',\n",
       "        on_mouse_event_closure('figure_enter')\n",
       "    );\n",
       "    rubberband_canvas.addEventListener(\n",
       "        'mouseleave',\n",
       "        on_mouse_event_closure('figure_leave')\n",
       "    );\n",
       "\n",
       "    canvas_div.addEventListener('wheel', function (event) {\n",
       "        if (event.deltaY < 0) {\n",
       "            event.step = 1;\n",
       "        } else {\n",
       "            event.step = -1;\n",
       "        }\n",
       "        on_mouse_event_closure('scroll')(event);\n",
       "    });\n",
       "\n",
       "    canvas_div.appendChild(canvas);\n",
       "    canvas_div.appendChild(rubberband_canvas);\n",
       "\n",
       "    this.rubberband_context = rubberband_canvas.getContext('2d');\n",
       "    this.rubberband_context.strokeStyle = '#000000';\n",
       "\n",
       "    this._resize_canvas = function (width, height, forward) {\n",
       "        if (forward) {\n",
       "            canvas_div.style.width = width + 'px';\n",
       "            canvas_div.style.height = height + 'px';\n",
       "        }\n",
       "    };\n",
       "\n",
       "    // Disable right mouse context menu.\n",
       "    this.rubberband_canvas.addEventListener('contextmenu', function (_e) {\n",
       "        event.preventDefault();\n",
       "        return false;\n",
       "    });\n",
       "\n",
       "    function set_focus() {\n",
       "        canvas.focus();\n",
       "        canvas_div.focus();\n",
       "    }\n",
       "\n",
       "    window.setTimeout(set_focus, 100);\n",
       "};\n",
       "\n",
       "mpl.figure.prototype._init_toolbar = function () {\n",
       "    var fig = this;\n",
       "\n",
       "    var toolbar = document.createElement('div');\n",
       "    toolbar.classList = 'mpl-toolbar';\n",
       "    this.root.appendChild(toolbar);\n",
       "\n",
       "    function on_click_closure(name) {\n",
       "        return function (_event) {\n",
       "            return fig.toolbar_button_onclick(name);\n",
       "        };\n",
       "    }\n",
       "\n",
       "    function on_mouseover_closure(tooltip) {\n",
       "        return function (event) {\n",
       "            if (!event.currentTarget.disabled) {\n",
       "                return fig.toolbar_button_onmouseover(tooltip);\n",
       "            }\n",
       "        };\n",
       "    }\n",
       "\n",
       "    fig.buttons = {};\n",
       "    var buttonGroup = document.createElement('div');\n",
       "    buttonGroup.classList = 'mpl-button-group';\n",
       "    for (var toolbar_ind in mpl.toolbar_items) {\n",
       "        var name = mpl.toolbar_items[toolbar_ind][0];\n",
       "        var tooltip = mpl.toolbar_items[toolbar_ind][1];\n",
       "        var image = mpl.toolbar_items[toolbar_ind][2];\n",
       "        var method_name = mpl.toolbar_items[toolbar_ind][3];\n",
       "\n",
       "        if (!name) {\n",
       "            /* Instead of a spacer, we start a new button group. */\n",
       "            if (buttonGroup.hasChildNodes()) {\n",
       "                toolbar.appendChild(buttonGroup);\n",
       "            }\n",
       "            buttonGroup = document.createElement('div');\n",
       "            buttonGroup.classList = 'mpl-button-group';\n",
       "            continue;\n",
       "        }\n",
       "\n",
       "        var button = (fig.buttons[name] = document.createElement('button'));\n",
       "        button.classList = 'mpl-widget';\n",
       "        button.setAttribute('role', 'button');\n",
       "        button.setAttribute('aria-disabled', 'false');\n",
       "        button.addEventListener('click', on_click_closure(method_name));\n",
       "        button.addEventListener('mouseover', on_mouseover_closure(tooltip));\n",
       "\n",
       "        var icon_img = document.createElement('img');\n",
       "        icon_img.src = '_images/' + image + '.png';\n",
       "        icon_img.srcset = '_images/' + image + '_large.png 2x';\n",
       "        icon_img.alt = tooltip;\n",
       "        button.appendChild(icon_img);\n",
       "\n",
       "        buttonGroup.appendChild(button);\n",
       "    }\n",
       "\n",
       "    if (buttonGroup.hasChildNodes()) {\n",
       "        toolbar.appendChild(buttonGroup);\n",
       "    }\n",
       "\n",
       "    var fmt_picker = document.createElement('select');\n",
       "    fmt_picker.classList = 'mpl-widget';\n",
       "    toolbar.appendChild(fmt_picker);\n",
       "    this.format_dropdown = fmt_picker;\n",
       "\n",
       "    for (var ind in mpl.extensions) {\n",
       "        var fmt = mpl.extensions[ind];\n",
       "        var option = document.createElement('option');\n",
       "        option.selected = fmt === mpl.default_extension;\n",
       "        option.innerHTML = fmt;\n",
       "        fmt_picker.appendChild(option);\n",
       "    }\n",
       "\n",
       "    var status_bar = document.createElement('span');\n",
       "    status_bar.classList = 'mpl-message';\n",
       "    toolbar.appendChild(status_bar);\n",
       "    this.message = status_bar;\n",
       "};\n",
       "\n",
       "mpl.figure.prototype.request_resize = function (x_pixels, y_pixels) {\n",
       "    // Request matplotlib to resize the figure. Matplotlib will then trigger a resize in the client,\n",
       "    // which will in turn request a refresh of the image.\n",
       "    this.send_message('resize', { width: x_pixels, height: y_pixels });\n",
       "};\n",
       "\n",
       "mpl.figure.prototype.send_message = function (type, properties) {\n",
       "    properties['type'] = type;\n",
       "    properties['figure_id'] = this.id;\n",
       "    this.ws.send(JSON.stringify(properties));\n",
       "};\n",
       "\n",
       "mpl.figure.prototype.send_draw_message = function () {\n",
       "    if (!this.waiting) {\n",
       "        this.waiting = true;\n",
       "        this.ws.send(JSON.stringify({ type: 'draw', figure_id: this.id }));\n",
       "    }\n",
       "};\n",
       "\n",
       "mpl.figure.prototype.handle_save = function (fig, _msg) {\n",
       "    var format_dropdown = fig.format_dropdown;\n",
       "    var format = format_dropdown.options[format_dropdown.selectedIndex].value;\n",
       "    fig.ondownload(fig, format);\n",
       "};\n",
       "\n",
       "mpl.figure.prototype.handle_resize = function (fig, msg) {\n",
       "    var size = msg['size'];\n",
       "    if (size[0] !== fig.canvas.width || size[1] !== fig.canvas.height) {\n",
       "        fig._resize_canvas(size[0], size[1], msg['forward']);\n",
       "        fig.send_message('refresh', {});\n",
       "    }\n",
       "};\n",
       "\n",
       "mpl.figure.prototype.handle_rubberband = function (fig, msg) {\n",
       "    var x0 = msg['x0'] / fig.ratio;\n",
       "    var y0 = (fig.canvas.height - msg['y0']) / fig.ratio;\n",
       "    var x1 = msg['x1'] / fig.ratio;\n",
       "    var y1 = (fig.canvas.height - msg['y1']) / fig.ratio;\n",
       "    x0 = Math.floor(x0) + 0.5;\n",
       "    y0 = Math.floor(y0) + 0.5;\n",
       "    x1 = Math.floor(x1) + 0.5;\n",
       "    y1 = Math.floor(y1) + 0.5;\n",
       "    var min_x = Math.min(x0, x1);\n",
       "    var min_y = Math.min(y0, y1);\n",
       "    var width = Math.abs(x1 - x0);\n",
       "    var height = Math.abs(y1 - y0);\n",
       "\n",
       "    fig.rubberband_context.clearRect(\n",
       "        0,\n",
       "        0,\n",
       "        fig.canvas.width / fig.ratio,\n",
       "        fig.canvas.height / fig.ratio\n",
       "    );\n",
       "\n",
       "    fig.rubberband_context.strokeRect(min_x, min_y, width, height);\n",
       "};\n",
       "\n",
       "mpl.figure.prototype.handle_figure_label = function (fig, msg) {\n",
       "    // Updates the figure title.\n",
       "    fig.header.textContent = msg['label'];\n",
       "};\n",
       "\n",
       "mpl.figure.prototype.handle_cursor = function (fig, msg) {\n",
       "    var cursor = msg['cursor'];\n",
       "    switch (cursor) {\n",
       "        case 0:\n",
       "            cursor = 'pointer';\n",
       "            break;\n",
       "        case 1:\n",
       "            cursor = 'default';\n",
       "            break;\n",
       "        case 2:\n",
       "            cursor = 'crosshair';\n",
       "            break;\n",
       "        case 3:\n",
       "            cursor = 'move';\n",
       "            break;\n",
       "    }\n",
       "    fig.rubberband_canvas.style.cursor = cursor;\n",
       "};\n",
       "\n",
       "mpl.figure.prototype.handle_message = function (fig, msg) {\n",
       "    fig.message.textContent = msg['message'];\n",
       "};\n",
       "\n",
       "mpl.figure.prototype.handle_draw = function (fig, _msg) {\n",
       "    // Request the server to send over a new figure.\n",
       "    fig.send_draw_message();\n",
       "};\n",
       "\n",
       "mpl.figure.prototype.handle_image_mode = function (fig, msg) {\n",
       "    fig.image_mode = msg['mode'];\n",
       "};\n",
       "\n",
       "mpl.figure.prototype.handle_history_buttons = function (fig, msg) {\n",
       "    for (var key in msg) {\n",
       "        if (!(key in fig.buttons)) {\n",
       "            continue;\n",
       "        }\n",
       "        fig.buttons[key].disabled = !msg[key];\n",
       "        fig.buttons[key].setAttribute('aria-disabled', !msg[key]);\n",
       "    }\n",
       "};\n",
       "\n",
       "mpl.figure.prototype.handle_navigate_mode = function (fig, msg) {\n",
       "    if (msg['mode'] === 'PAN') {\n",
       "        fig.buttons['Pan'].classList.add('active');\n",
       "        fig.buttons['Zoom'].classList.remove('active');\n",
       "    } else if (msg['mode'] === 'ZOOM') {\n",
       "        fig.buttons['Pan'].classList.remove('active');\n",
       "        fig.buttons['Zoom'].classList.add('active');\n",
       "    } else {\n",
       "        fig.buttons['Pan'].classList.remove('active');\n",
       "        fig.buttons['Zoom'].classList.remove('active');\n",
       "    }\n",
       "};\n",
       "\n",
       "mpl.figure.prototype.updated_canvas_event = function () {\n",
       "    // Called whenever the canvas gets updated.\n",
       "    this.send_message('ack', {});\n",
       "};\n",
       "\n",
       "// A function to construct a web socket function for onmessage handling.\n",
       "// Called in the figure constructor.\n",
       "mpl.figure.prototype._make_on_message_function = function (fig) {\n",
       "    return function socket_on_message(evt) {\n",
       "        if (evt.data instanceof Blob) {\n",
       "            var img = evt.data;\n",
       "            if (img.type !== 'image/png') {\n",
       "                /* FIXME: We get \"Resource interpreted as Image but\n",
       "                 * transferred with MIME type text/plain:\" errors on\n",
       "                 * Chrome.  But how to set the MIME type?  It doesn't seem\n",
       "                 * to be part of the websocket stream */\n",
       "                img.type = 'image/png';\n",
       "            }\n",
       "\n",
       "            /* Free the memory for the previous frames */\n",
       "            if (fig.imageObj.src) {\n",
       "                (window.URL || window.webkitURL).revokeObjectURL(\n",
       "                    fig.imageObj.src\n",
       "                );\n",
       "            }\n",
       "\n",
       "            fig.imageObj.src = (window.URL || window.webkitURL).createObjectURL(\n",
       "                img\n",
       "            );\n",
       "            fig.updated_canvas_event();\n",
       "            fig.waiting = false;\n",
       "            return;\n",
       "        } else if (\n",
       "            typeof evt.data === 'string' &&\n",
       "            evt.data.slice(0, 21) === 'data:image/png;base64'\n",
       "        ) {\n",
       "            fig.imageObj.src = evt.data;\n",
       "            fig.updated_canvas_event();\n",
       "            fig.waiting = false;\n",
       "            return;\n",
       "        }\n",
       "\n",
       "        var msg = JSON.parse(evt.data);\n",
       "        var msg_type = msg['type'];\n",
       "\n",
       "        // Call the  \"handle_{type}\" callback, which takes\n",
       "        // the figure and JSON message as its only arguments.\n",
       "        try {\n",
       "            var callback = fig['handle_' + msg_type];\n",
       "        } catch (e) {\n",
       "            console.log(\n",
       "                \"No handler for the '\" + msg_type + \"' message type: \",\n",
       "                msg\n",
       "            );\n",
       "            return;\n",
       "        }\n",
       "\n",
       "        if (callback) {\n",
       "            try {\n",
       "                // console.log(\"Handling '\" + msg_type + \"' message: \", msg);\n",
       "                callback(fig, msg);\n",
       "            } catch (e) {\n",
       "                console.log(\n",
       "                    \"Exception inside the 'handler_\" + msg_type + \"' callback:\",\n",
       "                    e,\n",
       "                    e.stack,\n",
       "                    msg\n",
       "                );\n",
       "            }\n",
       "        }\n",
       "    };\n",
       "};\n",
       "\n",
       "// from http://stackoverflow.com/questions/1114465/getting-mouse-location-in-canvas\n",
       "mpl.findpos = function (e) {\n",
       "    //this section is from http://www.quirksmode.org/js/events_properties.html\n",
       "    var targ;\n",
       "    if (!e) {\n",
       "        e = window.event;\n",
       "    }\n",
       "    if (e.target) {\n",
       "        targ = e.target;\n",
       "    } else if (e.srcElement) {\n",
       "        targ = e.srcElement;\n",
       "    }\n",
       "    if (targ.nodeType === 3) {\n",
       "        // defeat Safari bug\n",
       "        targ = targ.parentNode;\n",
       "    }\n",
       "\n",
       "    // pageX,Y are the mouse positions relative to the document\n",
       "    var boundingRect = targ.getBoundingClientRect();\n",
       "    var x = e.pageX - (boundingRect.left + document.body.scrollLeft);\n",
       "    var y = e.pageY - (boundingRect.top + document.body.scrollTop);\n",
       "\n",
       "    return { x: x, y: y };\n",
       "};\n",
       "\n",
       "/*\n",
       " * return a copy of an object with only non-object keys\n",
       " * we need this to avoid circular references\n",
       " * http://stackoverflow.com/a/24161582/3208463\n",
       " */\n",
       "function simpleKeys(original) {\n",
       "    return Object.keys(original).reduce(function (obj, key) {\n",
       "        if (typeof original[key] !== 'object') {\n",
       "            obj[key] = original[key];\n",
       "        }\n",
       "        return obj;\n",
       "    }, {});\n",
       "}\n",
       "\n",
       "mpl.figure.prototype.mouse_event = function (event, name) {\n",
       "    var canvas_pos = mpl.findpos(event);\n",
       "\n",
       "    if (name === 'button_press') {\n",
       "        this.canvas.focus();\n",
       "        this.canvas_div.focus();\n",
       "    }\n",
       "\n",
       "    var x = canvas_pos.x * this.ratio;\n",
       "    var y = canvas_pos.y * this.ratio;\n",
       "\n",
       "    this.send_message(name, {\n",
       "        x: x,\n",
       "        y: y,\n",
       "        button: event.button,\n",
       "        step: event.step,\n",
       "        guiEvent: simpleKeys(event),\n",
       "    });\n",
       "\n",
       "    /* This prevents the web browser from automatically changing to\n",
       "     * the text insertion cursor when the button is pressed.  We want\n",
       "     * to control all of the cursor setting manually through the\n",
       "     * 'cursor' event from matplotlib */\n",
       "    event.preventDefault();\n",
       "    return false;\n",
       "};\n",
       "\n",
       "mpl.figure.prototype._key_event_extra = function (_event, _name) {\n",
       "    // Handle any extra behaviour associated with a key event\n",
       "};\n",
       "\n",
       "mpl.figure.prototype.key_event = function (event, name) {\n",
       "    // Prevent repeat events\n",
       "    if (name === 'key_press') {\n",
       "        if (event.key === this._key) {\n",
       "            return;\n",
       "        } else {\n",
       "            this._key = event.key;\n",
       "        }\n",
       "    }\n",
       "    if (name === 'key_release') {\n",
       "        this._key = null;\n",
       "    }\n",
       "\n",
       "    var value = '';\n",
       "    if (event.ctrlKey && event.key !== 'Control') {\n",
       "        value += 'ctrl+';\n",
       "    }\n",
       "    else if (event.altKey && event.key !== 'Alt') {\n",
       "        value += 'alt+';\n",
       "    }\n",
       "    else if (event.shiftKey && event.key !== 'Shift') {\n",
       "        value += 'shift+';\n",
       "    }\n",
       "\n",
       "    value += 'k' + event.key;\n",
       "\n",
       "    this._key_event_extra(event, name);\n",
       "\n",
       "    this.send_message(name, { key: value, guiEvent: simpleKeys(event) });\n",
       "    return false;\n",
       "};\n",
       "\n",
       "mpl.figure.prototype.toolbar_button_onclick = function (name) {\n",
       "    if (name === 'download') {\n",
       "        this.handle_save(this, null);\n",
       "    } else {\n",
       "        this.send_message('toolbar_button', { name: name });\n",
       "    }\n",
       "};\n",
       "\n",
       "mpl.figure.prototype.toolbar_button_onmouseover = function (tooltip) {\n",
       "    this.message.textContent = tooltip;\n",
       "};\n",
       "\n",
       "///////////////// REMAINING CONTENT GENERATED BY embed_js.py /////////////////\n",
       "// prettier-ignore\n",
       "var _JSXTOOLS_RESIZE_OBSERVER=function(A){var t,i=new WeakMap,n=new WeakMap,a=new WeakMap,r=new WeakMap,o=new Set;function s(e){if(!(this instanceof s))throw new TypeError(\"Constructor requires 'new' operator\");i.set(this,e)}function h(){throw new TypeError(\"Function is not a constructor\")}function c(e,t,i,n){e=0 in arguments?Number(arguments[0]):0,t=1 in arguments?Number(arguments[1]):0,i=2 in arguments?Number(arguments[2]):0,n=3 in arguments?Number(arguments[3]):0,this.right=(this.x=this.left=e)+(this.width=i),this.bottom=(this.y=this.top=t)+(this.height=n),Object.freeze(this)}function d(){t=requestAnimationFrame(d);var s=new WeakMap,p=new Set;o.forEach((function(t){r.get(t).forEach((function(i){var r=t instanceof window.SVGElement,o=a.get(t),d=r?0:parseFloat(o.paddingTop),f=r?0:parseFloat(o.paddingRight),l=r?0:parseFloat(o.paddingBottom),u=r?0:parseFloat(o.paddingLeft),g=r?0:parseFloat(o.borderTopWidth),m=r?0:parseFloat(o.borderRightWidth),w=r?0:parseFloat(o.borderBottomWidth),b=u+f,F=d+l,v=(r?0:parseFloat(o.borderLeftWidth))+m,W=g+w,y=r?0:t.offsetHeight-W-t.clientHeight,E=r?0:t.offsetWidth-v-t.clientWidth,R=b+v,z=F+W,M=r?t.width:parseFloat(o.width)-R-E,O=r?t.height:parseFloat(o.height)-z-y;if(n.has(t)){var k=n.get(t);if(k[0]===M&&k[1]===O)return}n.set(t,[M,O]);var S=Object.create(h.prototype);S.target=t,S.contentRect=new c(u,d,M,O),s.has(i)||(s.set(i,[]),p.add(i)),s.get(i).push(S)}))})),p.forEach((function(e){i.get(e).call(e,s.get(e),e)}))}return s.prototype.observe=function(i){if(i instanceof window.Element){r.has(i)||(r.set(i,new Set),o.add(i),a.set(i,window.getComputedStyle(i)));var n=r.get(i);n.has(this)||n.add(this),cancelAnimationFrame(t),t=requestAnimationFrame(d)}},s.prototype.unobserve=function(i){if(i instanceof window.Element&&r.has(i)){var n=r.get(i);n.has(this)&&(n.delete(this),n.size||(r.delete(i),o.delete(i))),n.size||r.delete(i),o.size||cancelAnimationFrame(t)}},A.DOMRectReadOnly=c,A.ResizeObserver=s,A.ResizeObserverEntry=h,A}; // eslint-disable-line\n",
       "mpl.toolbar_items = [[\"Home\", \"Reset original view\", \"fa fa-home icon-home\", \"home\"], [\"Back\", \"Back to previous view\", \"fa fa-arrow-left icon-arrow-left\", \"back\"], [\"Forward\", \"Forward to next view\", \"fa fa-arrow-right icon-arrow-right\", \"forward\"], [\"\", \"\", \"\", \"\"], [\"Pan\", \"Left button pans, Right button zooms\\nx/y fixes axis, CTRL fixes aspect\", \"fa fa-arrows icon-move\", \"pan\"], [\"Zoom\", \"Zoom to rectangle\\nx/y fixes axis, CTRL fixes aspect\", \"fa fa-square-o icon-check-empty\", \"zoom\"], [\"\", \"\", \"\", \"\"], [\"Download\", \"Download plot\", \"fa fa-floppy-o icon-save\", \"download\"]];\n",
       "\n",
       "mpl.extensions = [\"eps\", \"jpeg\", \"pgf\", \"pdf\", \"png\", \"ps\", \"raw\", \"svg\", \"tif\"];\n",
       "\n",
       "mpl.default_extension = \"png\";/* global mpl */\n",
       "\n",
       "var comm_websocket_adapter = function (comm) {\n",
       "    // Create a \"websocket\"-like object which calls the given IPython comm\n",
       "    // object with the appropriate methods. Currently this is a non binary\n",
       "    // socket, so there is still some room for performance tuning.\n",
       "    var ws = {};\n",
       "\n",
       "    ws.binaryType = comm.kernel.ws.binaryType;\n",
       "    ws.readyState = comm.kernel.ws.readyState;\n",
       "    function updateReadyState(_event) {\n",
       "        if (comm.kernel.ws) {\n",
       "            ws.readyState = comm.kernel.ws.readyState;\n",
       "        } else {\n",
       "            ws.readyState = 3; // Closed state.\n",
       "        }\n",
       "    }\n",
       "    comm.kernel.ws.addEventListener('open', updateReadyState);\n",
       "    comm.kernel.ws.addEventListener('close', updateReadyState);\n",
       "    comm.kernel.ws.addEventListener('error', updateReadyState);\n",
       "\n",
       "    ws.close = function () {\n",
       "        comm.close();\n",
       "    };\n",
       "    ws.send = function (m) {\n",
       "        //console.log('sending', m);\n",
       "        comm.send(m);\n",
       "    };\n",
       "    // Register the callback with on_msg.\n",
       "    comm.on_msg(function (msg) {\n",
       "        //console.log('receiving', msg['content']['data'], msg);\n",
       "        var data = msg['content']['data'];\n",
       "        if (data['blob'] !== undefined) {\n",
       "            data = {\n",
       "                data: new Blob(msg['buffers'], { type: data['blob'] }),\n",
       "            };\n",
       "        }\n",
       "        // Pass the mpl event to the overridden (by mpl) onmessage function.\n",
       "        ws.onmessage(data);\n",
       "    });\n",
       "    return ws;\n",
       "};\n",
       "\n",
       "mpl.mpl_figure_comm = function (comm, msg) {\n",
       "    // This is the function which gets called when the mpl process\n",
       "    // starts-up an IPython Comm through the \"matplotlib\" channel.\n",
       "\n",
       "    var id = msg.content.data.id;\n",
       "    // Get hold of the div created by the display call when the Comm\n",
       "    // socket was opened in Python.\n",
       "    var element = document.getElementById(id);\n",
       "    var ws_proxy = comm_websocket_adapter(comm);\n",
       "\n",
       "    function ondownload(figure, _format) {\n",
       "        window.open(figure.canvas.toDataURL());\n",
       "    }\n",
       "\n",
       "    var fig = new mpl.figure(id, ws_proxy, ondownload, element);\n",
       "\n",
       "    // Call onopen now - mpl needs it, as it is assuming we've passed it a real\n",
       "    // web socket which is closed, not our websocket->open comm proxy.\n",
       "    ws_proxy.onopen();\n",
       "\n",
       "    fig.parent_element = element;\n",
       "    fig.cell_info = mpl.find_output_cell(\"<div id='\" + id + \"'></div>\");\n",
       "    if (!fig.cell_info) {\n",
       "        console.error('Failed to find cell for figure', id, fig);\n",
       "        return;\n",
       "    }\n",
       "    fig.cell_info[0].output_area.element.on(\n",
       "        'cleared',\n",
       "        { fig: fig },\n",
       "        fig._remove_fig_handler\n",
       "    );\n",
       "};\n",
       "\n",
       "mpl.figure.prototype.handle_close = function (fig, msg) {\n",
       "    var width = fig.canvas.width / fig.ratio;\n",
       "    fig.cell_info[0].output_area.element.off(\n",
       "        'cleared',\n",
       "        fig._remove_fig_handler\n",
       "    );\n",
       "    fig.resizeObserverInstance.unobserve(fig.canvas_div);\n",
       "\n",
       "    // Update the output cell to use the data from the current canvas.\n",
       "    fig.push_to_output();\n",
       "    var dataURL = fig.canvas.toDataURL();\n",
       "    // Re-enable the keyboard manager in IPython - without this line, in FF,\n",
       "    // the notebook keyboard shortcuts fail.\n",
       "    IPython.keyboard_manager.enable();\n",
       "    fig.parent_element.innerHTML =\n",
       "        '<img src=\"' + dataURL + '\" width=\"' + width + '\">';\n",
       "    fig.close_ws(fig, msg);\n",
       "};\n",
       "\n",
       "mpl.figure.prototype.close_ws = function (fig, msg) {\n",
       "    fig.send_message('closing', msg);\n",
       "    // fig.ws.close()\n",
       "};\n",
       "\n",
       "mpl.figure.prototype.push_to_output = function (_remove_interactive) {\n",
       "    // Turn the data on the canvas into data in the output cell.\n",
       "    var width = this.canvas.width / this.ratio;\n",
       "    var dataURL = this.canvas.toDataURL();\n",
       "    this.cell_info[1]['text/html'] =\n",
       "        '<img src=\"' + dataURL + '\" width=\"' + width + '\">';\n",
       "};\n",
       "\n",
       "mpl.figure.prototype.updated_canvas_event = function () {\n",
       "    // Tell IPython that the notebook contents must change.\n",
       "    IPython.notebook.set_dirty(true);\n",
       "    this.send_message('ack', {});\n",
       "    var fig = this;\n",
       "    // Wait a second, then push the new image to the DOM so\n",
       "    // that it is saved nicely (might be nice to debounce this).\n",
       "    setTimeout(function () {\n",
       "        fig.push_to_output();\n",
       "    }, 1000);\n",
       "};\n",
       "\n",
       "mpl.figure.prototype._init_toolbar = function () {\n",
       "    var fig = this;\n",
       "\n",
       "    var toolbar = document.createElement('div');\n",
       "    toolbar.classList = 'btn-toolbar';\n",
       "    this.root.appendChild(toolbar);\n",
       "\n",
       "    function on_click_closure(name) {\n",
       "        return function (_event) {\n",
       "            return fig.toolbar_button_onclick(name);\n",
       "        };\n",
       "    }\n",
       "\n",
       "    function on_mouseover_closure(tooltip) {\n",
       "        return function (event) {\n",
       "            if (!event.currentTarget.disabled) {\n",
       "                return fig.toolbar_button_onmouseover(tooltip);\n",
       "            }\n",
       "        };\n",
       "    }\n",
       "\n",
       "    fig.buttons = {};\n",
       "    var buttonGroup = document.createElement('div');\n",
       "    buttonGroup.classList = 'btn-group';\n",
       "    var button;\n",
       "    for (var toolbar_ind in mpl.toolbar_items) {\n",
       "        var name = mpl.toolbar_items[toolbar_ind][0];\n",
       "        var tooltip = mpl.toolbar_items[toolbar_ind][1];\n",
       "        var image = mpl.toolbar_items[toolbar_ind][2];\n",
       "        var method_name = mpl.toolbar_items[toolbar_ind][3];\n",
       "\n",
       "        if (!name) {\n",
       "            /* Instead of a spacer, we start a new button group. */\n",
       "            if (buttonGroup.hasChildNodes()) {\n",
       "                toolbar.appendChild(buttonGroup);\n",
       "            }\n",
       "            buttonGroup = document.createElement('div');\n",
       "            buttonGroup.classList = 'btn-group';\n",
       "            continue;\n",
       "        }\n",
       "\n",
       "        button = fig.buttons[name] = document.createElement('button');\n",
       "        button.classList = 'btn btn-default';\n",
       "        button.href = '#';\n",
       "        button.title = name;\n",
       "        button.innerHTML = '<i class=\"fa ' + image + ' fa-lg\"></i>';\n",
       "        button.addEventListener('click', on_click_closure(method_name));\n",
       "        button.addEventListener('mouseover', on_mouseover_closure(tooltip));\n",
       "        buttonGroup.appendChild(button);\n",
       "    }\n",
       "\n",
       "    if (buttonGroup.hasChildNodes()) {\n",
       "        toolbar.appendChild(buttonGroup);\n",
       "    }\n",
       "\n",
       "    // Add the status bar.\n",
       "    var status_bar = document.createElement('span');\n",
       "    status_bar.classList = 'mpl-message pull-right';\n",
       "    toolbar.appendChild(status_bar);\n",
       "    this.message = status_bar;\n",
       "\n",
       "    // Add the close button to the window.\n",
       "    var buttongrp = document.createElement('div');\n",
       "    buttongrp.classList = 'btn-group inline pull-right';\n",
       "    button = document.createElement('button');\n",
       "    button.classList = 'btn btn-mini btn-primary';\n",
       "    button.href = '#';\n",
       "    button.title = 'Stop Interaction';\n",
       "    button.innerHTML = '<i class=\"fa fa-power-off icon-remove icon-large\"></i>';\n",
       "    button.addEventListener('click', function (_evt) {\n",
       "        fig.handle_close(fig, {});\n",
       "    });\n",
       "    button.addEventListener(\n",
       "        'mouseover',\n",
       "        on_mouseover_closure('Stop Interaction')\n",
       "    );\n",
       "    buttongrp.appendChild(button);\n",
       "    var titlebar = this.root.querySelector('.ui-dialog-titlebar');\n",
       "    titlebar.insertBefore(buttongrp, titlebar.firstChild);\n",
       "};\n",
       "\n",
       "mpl.figure.prototype._remove_fig_handler = function (event) {\n",
       "    var fig = event.data.fig;\n",
       "    if (event.target !== this) {\n",
       "        // Ignore bubbled events from children.\n",
       "        return;\n",
       "    }\n",
       "    fig.close_ws(fig, {});\n",
       "};\n",
       "\n",
       "mpl.figure.prototype._root_extra_style = function (el) {\n",
       "    el.style.boxSizing = 'content-box'; // override notebook setting of border-box.\n",
       "};\n",
       "\n",
       "mpl.figure.prototype._canvas_extra_style = function (el) {\n",
       "    // this is important to make the div 'focusable\n",
       "    el.setAttribute('tabindex', 0);\n",
       "    // reach out to IPython and tell the keyboard manager to turn it's self\n",
       "    // off when our div gets focus\n",
       "\n",
       "    // location in version 3\n",
       "    if (IPython.notebook.keyboard_manager) {\n",
       "        IPython.notebook.keyboard_manager.register_events(el);\n",
       "    } else {\n",
       "        // location in version 2\n",
       "        IPython.keyboard_manager.register_events(el);\n",
       "    }\n",
       "};\n",
       "\n",
       "mpl.figure.prototype._key_event_extra = function (event, _name) {\n",
       "    var manager = IPython.notebook.keyboard_manager;\n",
       "    if (!manager) {\n",
       "        manager = IPython.keyboard_manager;\n",
       "    }\n",
       "\n",
       "    // Check for shift+enter\n",
       "    if (event.shiftKey && event.which === 13) {\n",
       "        this.canvas_div.blur();\n",
       "        // select the cell after this one\n",
       "        var index = IPython.notebook.find_cell_index(this.cell_info[0]);\n",
       "        IPython.notebook.select(index + 1);\n",
       "    }\n",
       "};\n",
       "\n",
       "mpl.figure.prototype.handle_save = function (fig, _msg) {\n",
       "    fig.ondownload(fig, null);\n",
       "};\n",
       "\n",
       "mpl.find_output_cell = function (html_output) {\n",
       "    // Return the cell and output element which can be found *uniquely* in the notebook.\n",
       "    // Note - this is a bit hacky, but it is done because the \"notebook_saving.Notebook\"\n",
       "    // IPython event is triggered only after the cells have been serialised, which for\n",
       "    // our purposes (turning an active figure into a static one), is too late.\n",
       "    var cells = IPython.notebook.get_cells();\n",
       "    var ncells = cells.length;\n",
       "    for (var i = 0; i < ncells; i++) {\n",
       "        var cell = cells[i];\n",
       "        if (cell.cell_type === 'code') {\n",
       "            for (var j = 0; j < cell.output_area.outputs.length; j++) {\n",
       "                var data = cell.output_area.outputs[j];\n",
       "                if (data.data) {\n",
       "                    // IPython >= 3 moved mimebundle to data attribute of output\n",
       "                    data = data.data;\n",
       "                }\n",
       "                if (data['text/html'] === html_output) {\n",
       "                    return [cell, data, j];\n",
       "                }\n",
       "            }\n",
       "        }\n",
       "    }\n",
       "};\n",
       "\n",
       "// Register the function which deals with the matplotlib target/channel.\n",
       "// The kernel may be null if the page has been refreshed.\n",
       "if (IPython.notebook.kernel !== null) {\n",
       "    IPython.notebook.kernel.comm_manager.register_target(\n",
       "        'matplotlib',\n",
       "        mpl.mpl_figure_comm\n",
       "    );\n",
       "}\n"
      ],
      "text/plain": [
       "<IPython.core.display.Javascript object>"
      ]
     },
     "metadata": {},
     "output_type": "display_data"
    },
    {
     "data": {
      "text/html": [
       "<img src=\"data:image/png;base64,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\" width=\"576\">"
      ],
      "text/plain": [
       "<IPython.core.display.HTML object>"
      ]
     },
     "metadata": {},
     "output_type": "display_data"
    },
    {
     "data": {
      "text/plain": [
       "<mpl_toolkits.mplot3d.art3d.Path3DCollection at 0x1a131141400>"
      ]
     },
     "execution_count": 29,
     "metadata": {},
     "output_type": "execute_result"
    }
   ],
   "source": [
    "%matplotlib notebook\n",
    "\n",
    "from mpl_toolkits.mplot3d import Axes3D \n",
    "fig = plt.figure(1, figsize=(8, 6))\n",
    "plt.clf()\n",
    "\n",
    "ax = Axes3D(fig, rect=[0, 0, .95, 1], elev=48, azim=134, auto_add_to_figure=False)\n",
    "fig.add_axes(ax)\n",
    "\n",
    " ##and use fig.add_axes(ax)\n",
    "\n",
    "plt.cla()\n",
    "# plt.ylabel('Age', fontsize=18)\n",
    "# plt.xlabel('Income', fontsize=16)\n",
    "# plt.zlabel('Education', fontsize=16)\n",
    "ax.set_xlabel('Education')\n",
    "ax.set_ylabel('Age')\n",
    "ax.set_zlabel('Income')\n",
    "\n",
    "ax.scatter(X[:, 1], X[:, 0], X[:, 3], c= labels.astype(float))\n"
   ]
  },
  {
   "cell_type": "markdown",
   "metadata": {
    "button": false,
    "new_sheet": false,
    "run_control": {
     "read_only": false
    }
   },
   "source": [
    "k-means will partition your customers into mutually exclusive groups, for example, into 3 clusters. The customers in each cluster are similar to each other demographically.\n",
    "Now we can create a profile for each group, considering the common characteristics of each cluster.\n",
    "For example, the 3 clusters can be:\n",
    "\n",
    "*   AFFLUENT, EDUCATED AND OLD AGED\n",
    "*   MIDDLE AGED AND MIDDLE INCOME\n",
    "*   YOUNG AND LOW INCOME\n"
   ]
  },
  {
   "cell_type": "markdown",
   "metadata": {
    "button": false,
    "new_sheet": false,
    "run_control": {
     "read_only": false
    }
   },
   "source": [
    "<h2>Want to learn more?</h2>\n",
    "\n",
    "IBM SPSS Modeler is a comprehensive analytics platform that has many machine learning algorithms. It has been designed to bring predictive intelligence to decisions made by individuals, by groups, by systems – by your enterprise as a whole. A free trial is available through this course, available here: <a href=\"https://www.ibm.com/analytics/spss-statistics-software?utm_medium=Exinfluencer&utm_source=Exinfluencer&utm_content=000026UJ&utm_term=10006555&utm_id=NA-SkillsNetwork-Channel-SkillsNetworkCoursesIBMDeveloperSkillsNetworkML0101ENSkillsNetwork20718538-2022-01-01\">SPSS Modeler</a>\n",
    "\n",
    "Also, you can use Watson Studio to run these notebooks faster with bigger datasets. Watson Studio is IBM's leading cloud solution for data scientists, built by data scientists. With Jupyter notebooks, RStudio, Apache Spark and popular libraries pre-packaged in the cloud, Watson Studio enables data scientists to collaborate on their projects without having to install anything. Join the fast-growing community of Watson Studio users today with a free account at <a href=\"https://www.ibm.com/cloud/watson-studio?utm_medium=Exinfluencer&utm_source=Exinfluencer&utm_content=000026UJ&utm_term=10006555&utm_id=NA-SkillsNetwork-Channel-SkillsNetworkCoursesIBMDeveloperSkillsNetworkML0101ENSkillsNetwork20718538-2022-01-01\">Watson Studio</a>\n"
   ]
  },
  {
   "cell_type": "markdown",
   "metadata": {},
   "source": [
    "### Thank you for completing this lab!\n",
    "\n",
    "## Author\n",
    "\n",
    "Saeed Aghabozorgi\n",
    "\n",
    "### Other Contributors\n",
    "\n",
    "<a href=\"https://www.linkedin.com/in/joseph-s-50398b136/?utm_medium=Exinfluencer&utm_source=Exinfluencer&utm_content=000026UJ&utm_term=10006555&utm_id=NA-SkillsNetwork-Channel-SkillsNetworkCoursesIBMDeveloperSkillsNetworkML0101ENSkillsNetwork20718538-2022-01-01\" target=\"_blank\">Joseph Santarcangelo</a>\n",
    "\n",
    "## Change Log\n",
    "\n",
    "| Date (YYYY-MM-DD) | Version | Changed By | Change Description                 |\n",
    "| ----------------- | ------- | ---------- | ---------------------------------- |\n",
    "| 2020-11-03        | 2.1     | Lakshmi    | Updated URL of csv                 |\n",
    "| 2020-08-27        | 2.0     | Lavanya    | Moved lab to course repo in GitLab |\n",
    "|                   |         |            |                                    |\n",
    "|                   |         |            |                                    |\n",
    "\n",
    "## <h3 align=\"center\"> © IBM Corporation 2020. All rights reserved. <h3/>\n"
   ]
  }
 ],
 "metadata": {
  "kernelspec": {
   "display_name": "Python 3 (ipykernel)",
   "language": "python",
   "name": "python3"
  },
  "language_info": {
   "codemirror_mode": {
    "name": "ipython",
    "version": 3
   },
   "file_extension": ".py",
   "mimetype": "text/x-python",
   "name": "python",
   "nbconvert_exporter": "python",
   "pygments_lexer": "ipython3",
   "version": "3.9.7"
  },
  "widgets": {
   "state": {},
   "version": "1.1.2"
  }
 },
 "nbformat": 4,
 "nbformat_minor": 2
}
